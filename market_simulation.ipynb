{
 "cells": [
  {
   "cell_type": "markdown",
   "metadata": {},
   "source": [
    "# Simulation\n",
    "\n",
    "This is all the code for the simulation of the market, including the traders, the asset and the market mechanism."
   ]
  },
  {
   "cell_type": "code",
   "execution_count": 1,
   "metadata": {},
   "outputs": [],
   "source": [
    "# Import relevant packages\n",
    "\n",
    "import numpy as np\n",
    "import pandas as pd\n",
    "import matplotlib.pyplot as plt\n",
    "import random\n",
    "import time\n",
    "import pymarket\n",
    "import networkx"
   ]
  },
  {
   "cell_type": "code",
   "execution_count": 61,
   "metadata": {},
   "outputs": [
    {
     "data": {
      "text/plain": [
       "[<matplotlib.lines.Line2D at 0x7f9e9dfc3210>]"
      ]
     },
     "execution_count": 61,
     "metadata": {},
     "output_type": "execute_result"
    },
    {
     "data": {
      "image/png": "[encoded data removed]",
      "text/plain": [
       "<Figure size 432x288 with 1 Axes>"
      ]
     },
     "metadata": {
      "needs_background": "light"
     },
     "output_type": "display_data"
    }
   ],
   "source": [
    "# Initialise the trading asset, as well as t previous random prices so that the technical analyst traders have some\n",
    "# material to use to make their inital trading decisions. These random prices will be kept constant throughout the\n",
    "# simulations so they don't affect the decisions of the traders between rounds. The price at t=0 will be 100 so price\n",
    "# movements during the simulation are normalised to an index.\n",
    "\n",
    "rm = 0.1 #Return on the market portfolio\n",
    "rf = 0.02 #Return on the risk free asset\n",
    "\n",
    "t = 100\n",
    "period = []\n",
    "start = -t\n",
    "\n",
    "for i in range(t):\n",
    "    period.append(start)\n",
    "    start += 1\n",
    "    \n",
    "# asset_prices_rev = []\n",
    "# price = 100\n",
    "\n",
    "# for i in range(t):\n",
    "    # asset_prices_rev.append(price)\n",
    "    # price = price + np.random.normal(loc=-0.09, scale=1.0, size=None)\n",
    "    \n",
    "asset_prices_rev_final = [100, 100.01270443267846, 100.64019372161697, 98.81839318571531, 99.30899479777956, \n",
    "                          97.51859080046586, 99.22427385535754, 99.44545557876086, 99.52622326159883, \n",
    "                          99.23209122576705, 101.52132601414174, 101.30141646048006, 100.89710059388699, \n",
    "                          100.46473999622577, 100.75961538456453, 101.88499554537094, 100.80411278857896, \n",
    "                          101.72248034025961, 101.12565566539686, 100.26632483034365, 100.91562712976665, \n",
    "                          99.17772539309188, 99.59066814732586, 99.75049301170291, 99.88257405096272, \n",
    "                          101.67780729403768, 101.20291667999382, 101.94670634215417, 101.10767031065018, \n",
    "                          101.81291988910793, 101.30365747376271, 99.2424041923615, 100.8833495441585, \n",
    "                          99.78836505154021, 99.33535482264746, 98.97871646915819, 99.06522794959744, \n",
    "                          98.30142009719744, 98.79170348115102, 97.6910991393464, 95.44595047877094, \n",
    "                          96.06814982285735, 95.72056059028928, 95.98006873492281, 96.66174879041085, \n",
    "                          97.10418900617363, 96.20190098646628, 95.95299800697686, 96.99590538116517, \n",
    "                          97.81622741995606, 96.3887487724033, 97.77586186321399, 95.34063768966071, \n",
    "                          95.55822196174113, 94.86914074199406, 94.52574130209447, 94.46441233699015, \n",
    "                          92.7093912019743, 93.12968534010358, 93.2223145464527, 92.66989504822202, \n",
    "                          92.78906639898042, 91.794571679981, 92.23728712947086, 91.7531808557108, \n",
    "                          91.36069829889261, 92.5351177867759, 93.46525633285206, 94.57936577428167, \n",
    "                          93.6743842774735, 93.47493406493045, 93.6252878884862, 94.17103159031704, \n",
    "                          94.57988577655658, 93.92021148266691, 94.66830817347167, 95.2828076714649, \n",
    "                          95.03199804355003, 93.43284668672827, 93.33299029582979, 92.51972813503856, \n",
    "                          90.65244342293956, 90.55553325883402, 89.89860870807794, 90.5321278206722, \n",
    "                          91.82820852517096, 92.73328391342815, 92.05545521924738, 91.89793090418809, \n",
    "                          92.59268573869126, 92.84506087167615, 92.8490494107132, 91.88331933594272, \n",
    "                          92.3255816844502, 93.70032141468926, 94.00839921394368, 95.17675414492784, \n",
    "                          95.29954443407748, 97.27212940879878, 96.98808834932551]\n",
    "\n",
    "asset_prices_rev_final.reverse()\n",
    "asset_prices = asset_prices_rev_final\n",
    "    \n",
    "beta = []\n",
    "\n",
    "for i in range(t):\n",
    "    beta.append(1) #Assume beta has remained unchanged for previous periods\n",
    "    \n",
    "def moving_average(price_list, window): #Define a function to calculate simple moving averages\n",
    "    \n",
    "    window_size = window\n",
    "    price_series = pd.Series(price_list)\n",
    "    windows = price_series.rolling(window_size)\n",
    "    ma = windows.mean()\n",
    "    ma_list = ma.tolist()\n",
    "    ma_final = ma_list[window_size - 1:]\n",
    "    return ma_final\n",
    "    \n",
    "ma20 = moving_average(asset_prices, 20) #Generate 20 period SMA\n",
    "ma80 = moving_average(asset_prices, 80) #Generate 80 period SMA\n",
    "\n",
    "asset = {\"period\": period, \"price\": asset_prices, \"beta\": beta}\n",
    "assetdf = pd.DataFrame(data=asset)\n",
    "\n",
    "plt.plot(period, asset_prices, label=\"Price\")\n",
    "plt.plot(period[19:], ma20, label=\"20 MA\")\n",
    "plt.plot(period[79:], ma80, label=\"80 MA\")\n"
   ]
  },
  {
   "cell_type": "code",
   "execution_count": 62,
   "metadata": {},
   "outputs": [],
   "source": [
    "# Define the different types of traders and the syntax of how they receive information and place orders accordingly.\n",
    "\n",
    "class schart:\n",
    "    def _init_(self, firm):\n",
    "        bal = None\n",
    "        if firm == True:\n",
    "            bal = np.random.normal(loc=1000000, scale=5000, size=None)\n",
    "        else: bal = np.random.normal(loc=10000, scale=500, size=None)\n",
    "            \n",
    "            "
   ]
  },
  {
   "cell_type": "code",
   "execution_count": null,
   "metadata": {},
   "outputs": [],
   "source": []
  }
 ],
 "metadata": {
  "kernelspec": {
   "display_name": "Python 3",
   "language": "python",
   "name": "python3"
  },
  "language_info": {
   "codemirror_mode": {
    "name": "ipython",
    "version": 3
   },
   "file_extension": ".py",
   "mimetype": "text/x-python",
   "name": "python",
   "nbconvert_exporter": "python",
   "pygments_lexer": "ipython3",
   "version": "3.7.4"
  }
 },
 "nbformat": 4,
 "nbformat_minor": 2
}
