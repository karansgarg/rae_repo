{
 "cells": [
  {
   "cell_type": "markdown",
   "metadata": {},
   "source": [
    "# Training the Algorithmic Traders\n",
    "\n",
    "This notebook contains the code for generating and training the LSTM traders. We will be using the keras structures that are available with tensorflow as the basis for the struture."
   ]
  },
  {
   "cell_type": "code",
   "execution_count": 34,
   "metadata": {},
   "outputs": [],
   "source": [
    "import numpy as np #Import relevant packages\n",
    "import pandas as pd\n",
    "import math\n",
    "import tensorflow as tf\n",
    "from tensorflow import keras\n",
    "from tensorflow.keras import layers\n",
    "from sklearn.preprocessing import StandardScaler\n",
    "from sklearn.metrics import mean_squared_error\n",
    "import glob\n",
    "import csv\n",
    "import matplotlib.pyplot as plt"
   ]
  },
  {
   "cell_type": "code",
   "execution_count": 35,
   "metadata": {},
   "outputs": [],
   "source": [
    "def unpack_data(filepath): #Returns a dictionary where each item is a df containing one run. One dict per generation.\n",
    "    all_files = glob.glob(filepath + \"/*.csv\")\n",
    "#    print(all_files)\n",
    "    name_list = []\n",
    "    datadict = {}\n",
    "    for f in all_files:\n",
    "        name_list.append(f[77:-4])\n",
    "#        print(name_list)\n",
    "    for i,n in enumerate(name_list):\n",
    "        datadict[n] = pd.read_csv(all_files[i], header=0)\n",
    "    for k, v in datadict.items():\n",
    "        v.drop(columns=[\"Unnamed: 0\", \"volume\", \"spread\", \"10_MA\", \"50_MA\"], inplace=True)\n",
    "#        v.reset_index(drop=True)\n",
    "#        v.index.name = \"period\"\n",
    "    return datadict"
   ]
  },
  {
   "cell_type": "code",
   "execution_count": 36,
   "metadata": {},
   "outputs": [],
   "source": [
    "gen0 = unpack_data(\"/Users/karangarg/Documents/Year 3 Modules/EC331/Code/rae_repo/gen0_sims/data\") #Load gen0 data"
   ]
  },
  {
   "cell_type": "code",
   "execution_count": null,
   "metadata": {},
   "outputs": [],
   "source": []
  },
  {
   "cell_type": "code",
   "execution_count": 47,
   "metadata": {
    "scrolled": true
   },
   "outputs": [],
   "source": [
    "def format_data(datadict, window): #Turn dictionaries of data into features and samples lists\n",
    "    x_data = []\n",
    "    y_data = []\n",
    "    for k, v in datadict.items():\n",
    "        for i in range(len(v)):\n",
    "            if i >= window:\n",
    "                y_data.append(v.iloc[i][\"trading_price\"])\n",
    "                xi = v.iloc[i-window:i].to_numpy()\n",
    "                x_data.append(xi)\n",
    "    x_data = np.array(x_data)\n",
    "    y_data = np.array(y_data)\n",
    "    y_data = np.reshape(y_data, (y_data.shape[0], 1))\n",
    "    return x_data, y_data"
   ]
  },
  {
   "cell_type": "code",
   "execution_count": 48,
   "metadata": {
    "scrolled": true
   },
   "outputs": [
    {
     "name": "stdout",
     "output_type": "stream",
     "text": [
      "(32360, 10, 2)\n",
      "(32360, 1)\n"
     ]
    }
   ],
   "source": [
    "X, y = format_data(gen0, 10)\n",
    "print(X.shape)\n",
    "print(y.shape)"
   ]
  },
  {
   "cell_type": "code",
   "execution_count": 54,
   "metadata": {},
   "outputs": [],
   "source": [
    "def normalise_data(xarray, yarray): #Take the natural log and then normalise prices\n",
    "    yarray_log = np.log(yarray)\n",
    "    xarray_log = np.log(xarray)\n",
    "    xsc = StandardScaler()\n",
    "    instances, timesteps, features = xarray_log.shape\n",
    "    xarray_log = np.reshape(xarray_log, (-1, features))\n",
    "    xarray_norm = xsc.fit_transform(xarray_log)\n",
    "    xarray_norm = np.reshape(xarray_norm, (instances, timesteps, features))\n",
    "    ysc = StandardScaler().fit(yarray_log)\n",
    "    yarray_norm = ysc.transform(yarray_log)\n",
    "    return xarray_norm, yarray_norm, xsc, ysc\n",
    "\n",
    "def split_data(xarray, yarray, trainratio): #Split the data into training and test sets\n",
    "    train_len = int(len(xarray)*trainratio)\n",
    "    test_len = len(xarray) - train_len\n",
    "    x_train, y_train, x_test, y_test = xarray[:train_len], yarray[:train_len], xarray[train_len:], yarray[train_len:]\n",
    "    return x_train, y_train, x_test, y_test"
   ]
  },
  {
   "cell_type": "code",
   "execution_count": 57,
   "metadata": {},
   "outputs": [],
   "source": [
    "X_train, y_train, X_test, y_test = split_data(X, y, 0.6)\n",
    "X_train, y_train, Xscale, yscale = normalise_data(X_train, y_train)\n",
    "X_test, y_test, _, _ = normalise_data(X_test, y_test)"
   ]
  },
  {
   "cell_type": "code",
   "execution_count": 107,
   "metadata": {},
   "outputs": [
    {
     "name": "stdout",
     "output_type": "stream",
     "text": [
      "[4.72072684 4.78073085]\n",
      "[0.04046444 0.01431437]\n",
      "[4.72363942]\n",
      "[0.04226946]\n"
     ]
    }
   ],
   "source": [
    "def scaler():\n",
    "    return Xscale\n",
    "\n",
    "print(Xscale.mean_)\n",
    "print(Xscale.var_)\n",
    "print(yscale.mean_)\n",
    "print(yscale.var_)"
   ]
  },
  {
   "cell_type": "code",
   "execution_count": 93,
   "metadata": {},
   "outputs": [],
   "source": [
    "### UNFINISHED, just messing around and trying to set it up while I was trying to figure out the feature engineering\n",
    "\n",
    "lstm1=keras.Sequential() #Set up the architecture of the model\n",
    "\n",
    "lstm1.add(layers.LSTM(units=50, return_sequences=True, input_shape=(X_train.shape[1], X_train.shape[2])))\n",
    "lstm1.add(layers.Dropout(0.2))\n",
    "\n",
    "lstm1.add(layers.LSTM(units=50, return_sequences=True))\n",
    "lstm1.add(layers.Dropout(0.2))\n",
    "\n",
    "lstm1.add(layers.LSTM(units=50, return_sequences=True))\n",
    "lstm1.add(layers.Dropout(0.2))\n",
    "\n",
    "lstm1.add(layers.LSTM(units=50))\n",
    "lstm1.add(layers.Dropout(0.2))\n",
    "\n",
    "lstm1.add(layers.Dense(units = 1))"
   ]
  },
  {
   "cell_type": "code",
   "execution_count": 94,
   "metadata": {
    "scrolled": true
   },
   "outputs": [
    {
     "name": "stdout",
     "output_type": "stream",
     "text": [
      "Train on 17474 samples, validate on 1942 samples\n",
      "Epoch 1/100\n",
      "17474/17474 [==============================] - 103s 6ms/sample - loss: 0.0744 - accuracy: 0.0000e+00 - val_loss: 0.0319 - val_accuracy: 0.0000e+00\n",
      "Epoch 2/100\n",
      "17474/17474 [==============================] - 81s 5ms/sample - loss: 0.0469 - accuracy: 0.0000e+00 - val_loss: 0.1552 - val_accuracy: 0.0000e+00\n",
      "Epoch 3/100\n",
      "17474/17474 [==============================] - 91s 5ms/sample - loss: 0.0321 - accuracy: 0.0000e+00 - val_loss: 0.0276 - val_accuracy: 0.0000e+00\n",
      "Epoch 4/100\n",
      "17474/17474 [==============================] - 76s 4ms/sample - loss: 0.0197 - accuracy: 0.0000e+00 - val_loss: 0.0517 - val_accuracy: 0.0000e+00\n",
      "Epoch 5/100\n",
      "17474/17474 [==============================] - 62s 4ms/sample - loss: 0.0223 - accuracy: 0.0000e+00 - val_loss: 0.1143 - val_accuracy: 0.0000e+00\n",
      "Epoch 6/100\n",
      "17474/17474 [==============================] - 62s 4ms/sample - loss: 0.0189 - accuracy: 0.0000e+00 - val_loss: 0.0584 - val_accuracy: 0.0000e+00\n",
      "Epoch 7/100\n",
      "17474/17474 [==============================] - 60s 3ms/sample - loss: 0.0150 - accuracy: 0.0000e+00 - val_loss: 0.0464 - val_accuracy: 0.0000e+00\n",
      "Epoch 8/100\n",
      "17474/17474 [==============================] - 57s 3ms/sample - loss: 0.0165 - accuracy: 0.0000e+00 - val_loss: 0.0363 - val_accuracy: 0.0000e+00\n",
      "Epoch 9/100\n",
      "17474/17474 [==============================] - 59s 3ms/sample - loss: 0.0201 - accuracy: 0.0000e+00 - val_loss: 0.0972 - val_accuracy: 0.0000e+00\n",
      "Epoch 10/100\n",
      "17474/17474 [==============================] - 59s 3ms/sample - loss: 0.0160 - accuracy: 0.0000e+00 - val_loss: 0.1363 - val_accuracy: 0.0000e+00\n",
      "Epoch 11/100\n",
      "17474/17474 [==============================] - 59s 3ms/sample - loss: 0.0140 - accuracy: 0.0000e+00 - val_loss: 0.0461 - val_accuracy: 0.0000e+00\n",
      "Epoch 12/100\n",
      "17474/17474 [==============================] - 58s 3ms/sample - loss: 0.0133 - accuracy: 0.0000e+00 - val_loss: 0.0902 - val_accuracy: 0.0000e+00\n",
      "Epoch 13/100\n",
      "17474/17474 [==============================] - 58s 3ms/sample - loss: 0.0181 - accuracy: 0.0000e+00 - val_loss: 0.1427 - val_accuracy: 0.0000e+00\n",
      "Epoch 14/100\n",
      "17474/17474 [==============================] - 78s 4ms/sample - loss: 0.0156 - accuracy: 0.0000e+00 - val_loss: 0.0558 - val_accuracy: 0.0000e+00\n",
      "Epoch 15/100\n",
      "17474/17474 [==============================] - 76s 4ms/sample - loss: 0.0120 - accuracy: 0.0000e+00 - val_loss: 0.1242 - val_accuracy: 0.0000e+00\n",
      "Epoch 16/100\n",
      "17474/17474 [==============================] - 63s 4ms/sample - loss: 0.0160 - accuracy: 0.0000e+00 - val_loss: 0.1405 - val_accuracy: 0.0000e+00\n",
      "Epoch 17/100\n",
      "17474/17474 [==============================] - 64s 4ms/sample - loss: 0.0130 - accuracy: 0.0000e+00 - val_loss: 0.1076 - val_accuracy: 0.0000e+00\n",
      "Epoch 18/100\n",
      "17474/17474 [==============================] - 65s 4ms/sample - loss: 0.0126 - accuracy: 0.0000e+00 - val_loss: 0.2952 - val_accuracy: 0.0000e+00\n",
      "Epoch 19/100\n",
      "17474/17474 [==============================] - 63s 4ms/sample - loss: 0.0224 - accuracy: 0.0000e+00 - val_loss: 0.2708 - val_accuracy: 0.0000e+00\n",
      "Epoch 20/100\n",
      "17474/17474 [==============================] - 64s 4ms/sample - loss: 0.0185 - accuracy: 0.0000e+00 - val_loss: 0.1120 - val_accuracy: 0.0000e+00\n",
      "Epoch 21/100\n",
      "17474/17474 [==============================] - 64s 4ms/sample - loss: 0.0130 - accuracy: 0.0000e+00 - val_loss: 0.0888 - val_accuracy: 0.0000e+00\n",
      "Epoch 22/100\n",
      "17474/17474 [==============================] - 70s 4ms/sample - loss: 0.0121 - accuracy: 0.0000e+00 - val_loss: 0.0826 - val_accuracy: 0.0000e+00\n",
      "Epoch 23/100\n",
      "17474/17474 [==============================] - 79s 5ms/sample - loss: 0.0119 - accuracy: 0.0000e+00 - val_loss: 0.1250 - val_accuracy: 0.0000e+00\n",
      "Epoch 24/100\n",
      "17474/17474 [==============================] - 78s 4ms/sample - loss: 0.0148 - accuracy: 0.0000e+00 - val_loss: 0.0955 - val_accuracy: 0.0000e+00\n",
      "Epoch 25/100\n",
      "17474/17474 [==============================] - 83s 5ms/sample - loss: 0.0123 - accuracy: 0.0000e+00 - val_loss: 0.0593 - val_accuracy: 0.0000e+00\n",
      "Epoch 26/100\n",
      "17474/17474 [==============================] - 96s 5ms/sample - loss: 0.0136 - accuracy: 0.0000e+00 - val_loss: 0.1283 - val_accuracy: 0.0000e+00\n",
      "Epoch 27/100\n",
      "17474/17474 [==============================] - 85s 5ms/sample - loss: 0.0151 - accuracy: 0.0000e+00 - val_loss: 0.1003 - val_accuracy: 0.0000e+00\n",
      "Epoch 28/100\n",
      "17474/17474 [==============================] - 74s 4ms/sample - loss: 0.0129 - accuracy: 0.0000e+00 - val_loss: 0.0959 - val_accuracy: 0.0000e+00\n",
      "Epoch 29/100\n",
      "17474/17474 [==============================] - 91s 5ms/sample - loss: 0.0141 - accuracy: 0.0000e+00 - val_loss: 0.0559 - val_accuracy: 0.0000e+00\n",
      "Epoch 30/100\n",
      "17474/17474 [==============================] - 72s 4ms/sample - loss: 0.0113 - accuracy: 0.0000e+00 - val_loss: 0.0916 - val_accuracy: 0.0000e+00\n",
      "Epoch 31/100\n",
      "17474/17474 [==============================] - 70s 4ms/sample - loss: 0.0117 - accuracy: 0.0000e+00 - val_loss: 0.0436 - val_accuracy: 0.0000e+00\n",
      "Epoch 32/100\n",
      "17474/17474 [==============================] - 82s 5ms/sample - loss: 0.0103 - accuracy: 0.0000e+00 - val_loss: 0.0731 - val_accuracy: 0.0000e+00\n",
      "Epoch 33/100\n",
      "17474/17474 [==============================] - 64s 4ms/sample - loss: 0.0111 - accuracy: 0.0000e+00 - val_loss: 0.0535 - val_accuracy: 0.0000e+00\n",
      "Epoch 34/100\n",
      "17474/17474 [==============================] - 65s 4ms/sample - loss: 0.0122 - accuracy: 0.0000e+00 - val_loss: 0.0481 - val_accuracy: 0.0000e+00\n",
      "Epoch 35/100\n",
      "17474/17474 [==============================] - 67s 4ms/sample - loss: 0.0133 - accuracy: 0.0000e+00 - val_loss: 0.0337 - val_accuracy: 0.0000e+00\n",
      "Epoch 36/100\n",
      "17474/17474 [==============================] - 83s 5ms/sample - loss: 0.0141 - accuracy: 0.0000e+00 - val_loss: 0.0945 - val_accuracy: 0.0000e+00\n",
      "Epoch 37/100\n",
      "17474/17474 [==============================] - 78s 4ms/sample - loss: 0.0145 - accuracy: 0.0000e+00 - val_loss: 0.1017 - val_accuracy: 0.0000e+00\n",
      "Epoch 38/100\n",
      "17474/17474 [==============================] - 63s 4ms/sample - loss: 0.0119 - accuracy: 0.0000e+00 - val_loss: 0.0548 - val_accuracy: 0.0000e+00\n",
      "Epoch 39/100\n",
      "17474/17474 [==============================] - 60s 3ms/sample - loss: 0.0124 - accuracy: 0.0000e+00 - val_loss: 0.0985 - val_accuracy: 0.0000e+00\n",
      "Epoch 40/100\n",
      "17474/17474 [==============================] - 60s 3ms/sample - loss: 0.0181 - accuracy: 0.0000e+00 - val_loss: 0.0722 - val_accuracy: 0.0000e+00\n",
      "Epoch 41/100\n",
      "17474/17474 [==============================] - 62s 4ms/sample - loss: 0.0126 - accuracy: 0.0000e+00 - val_loss: 0.0436 - val_accuracy: 0.0000e+00\n",
      "Epoch 42/100\n",
      "17474/17474 [==============================] - 59s 3ms/sample - loss: 0.0126 - accuracy: 0.0000e+00 - val_loss: 0.0682 - val_accuracy: 0.0000e+00\n",
      "Epoch 43/100\n",
      "17474/17474 [==============================] - 58s 3ms/sample - loss: 0.0112 - accuracy: 0.0000e+00 - val_loss: 0.0302 - val_accuracy: 0.0000e+00\n",
      "Epoch 44/100\n",
      "17474/17474 [==============================] - 59s 3ms/sample - loss: 0.0148 - accuracy: 0.0000e+00 - val_loss: 0.0628 - val_accuracy: 0.0000e+00\n",
      "Epoch 45/100\n",
      "17474/17474 [==============================] - 61s 4ms/sample - loss: 0.0135 - accuracy: 0.0000e+00 - val_loss: 0.0398 - val_accuracy: 0.0000e+00\n",
      "Epoch 46/100\n",
      "17474/17474 [==============================] - 65s 4ms/sample - loss: 0.0125 - accuracy: 0.0000e+00 - val_loss: 0.0259 - val_accuracy: 0.0000e+00\n",
      "Epoch 47/100\n",
      "17474/17474 [==============================] - 58s 3ms/sample - loss: 0.0129 - accuracy: 0.0000e+00 - val_loss: 0.0510 - val_accuracy: 0.0000e+00\n",
      "Epoch 48/100\n",
      "17474/17474 [==============================] - 60s 3ms/sample - loss: 0.0132 - accuracy: 0.0000e+00 - val_loss: 0.0237 - val_accuracy: 0.0000e+00\n",
      "Epoch 49/100\n",
      "17474/17474 [==============================] - 59s 3ms/sample - loss: 0.0139 - accuracy: 0.0000e+00 - val_loss: 0.0224 - val_accuracy: 0.0000e+00\n",
      "Epoch 50/100\n",
      "17474/17474 [==============================] - 82s 5ms/sample - loss: 0.0141 - accuracy: 0.0000e+00 - val_loss: 0.0298 - val_accuracy: 0.0000e+00\n",
      "Epoch 51/100\n",
      "17474/17474 [==============================] - 65s 4ms/sample - loss: 0.0111 - accuracy: 0.0000e+00 - val_loss: 0.0476 - val_accuracy: 0.0000e+00\n",
      "Epoch 52/100\n"
     ]
    },
    {
     "name": "stdout",
     "output_type": "stream",
     "text": [
      "17474/17474 [==============================] - 81s 5ms/sample - loss: 0.0110 - accuracy: 0.0000e+00 - val_loss: 0.0383 - val_accuracy: 0.0000e+00\n",
      "Epoch 53/100\n",
      "17474/17474 [==============================] - 66s 4ms/sample - loss: 0.0140 - accuracy: 0.0000e+00 - val_loss: 0.0461 - val_accuracy: 0.0000e+00\n",
      "Epoch 54/100\n",
      "17474/17474 [==============================] - 80s 5ms/sample - loss: 0.0156 - accuracy: 0.0000e+00 - val_loss: 0.0221 - val_accuracy: 0.0000e+00\n",
      "Epoch 55/100\n",
      "17474/17474 [==============================] - 59s 3ms/sample - loss: 0.0118 - accuracy: 0.0000e+00 - val_loss: 0.0305 - val_accuracy: 0.0000e+00\n",
      "Epoch 56/100\n",
      "17474/17474 [==============================] - 79s 5ms/sample - loss: 0.0144 - accuracy: 0.0000e+00 - val_loss: 0.0403 - val_accuracy: 0.0000e+00\n",
      "Epoch 57/100\n",
      "17474/17474 [==============================] - 70s 4ms/sample - loss: 0.0139 - accuracy: 0.0000e+00 - val_loss: 0.0574 - val_accuracy: 0.0000e+00\n",
      "Epoch 58/100\n",
      "17474/17474 [==============================] - 58s 3ms/sample - loss: 0.0140 - accuracy: 0.0000e+00 - val_loss: 0.0296 - val_accuracy: 0.0000e+00\n",
      "Epoch 59/100\n",
      "17474/17474 [==============================] - 73s 4ms/sample - loss: 0.0132 - accuracy: 0.0000e+00 - val_loss: 0.0163 - val_accuracy: 0.0000e+00\n",
      "Epoch 60/100\n",
      "17474/17474 [==============================] - 98s 6ms/sample - loss: 0.0101 - accuracy: 0.0000e+00 - val_loss: 0.0166 - val_accuracy: 0.0000e+00\n",
      "Epoch 61/100\n",
      "17474/17474 [==============================] - 73s 4ms/sample - loss: 0.0119 - accuracy: 0.0000e+00 - val_loss: 0.0513 - val_accuracy: 0.0000e+00\n",
      "Epoch 62/100\n",
      "17474/17474 [==============================] - 60s 3ms/sample - loss: 0.0149 - accuracy: 0.0000e+00 - val_loss: 0.1910 - val_accuracy: 0.0000e+00\n",
      "Epoch 63/100\n",
      "17474/17474 [==============================] - 81s 5ms/sample - loss: 0.0143 - accuracy: 0.0000e+00 - val_loss: 0.0118 - val_accuracy: 0.0000e+00\n",
      "Epoch 64/100\n",
      "17474/17474 [==============================] - 83s 5ms/sample - loss: 0.0126 - accuracy: 0.0000e+00 - val_loss: 0.0574 - val_accuracy: 0.0000e+00\n",
      "Epoch 65/100\n",
      "17474/17474 [==============================] - 60s 3ms/sample - loss: 0.0158 - accuracy: 0.0000e+00 - val_loss: 0.0239 - val_accuracy: 0.0000e+00\n",
      "Epoch 66/100\n",
      "17474/17474 [==============================] - 58s 3ms/sample - loss: 0.0111 - accuracy: 0.0000e+00 - val_loss: 0.0394 - val_accuracy: 0.0000e+00\n",
      "Epoch 67/100\n",
      "17474/17474 [==============================] - 70s 4ms/sample - loss: 0.0161 - accuracy: 0.0000e+00 - val_loss: 0.0581 - val_accuracy: 0.0000e+00\n",
      "Epoch 68/100\n",
      "17474/17474 [==============================] - 101s 6ms/sample - loss: 0.0145 - accuracy: 0.0000e+00 - val_loss: 0.0110 - val_accuracy: 0.0000e+00\n",
      "Epoch 69/100\n",
      "17474/17474 [==============================] - 78s 4ms/sample - loss: 0.0110 - accuracy: 0.0000e+00 - val_loss: 0.0349 - val_accuracy: 0.0000e+00\n",
      "Epoch 70/100\n",
      "17474/17474 [==============================] - 94s 5ms/sample - loss: 0.0107 - accuracy: 0.0000e+00 - val_loss: 0.0158 - val_accuracy: 0.0000e+00\n",
      "Epoch 71/100\n",
      "17474/17474 [==============================] - 77s 4ms/sample - loss: 0.0150 - accuracy: 0.0000e+00 - val_loss: 0.0261 - val_accuracy: 0.0000e+00\n",
      "Epoch 72/100\n",
      "17474/17474 [==============================] - 66s 4ms/sample - loss: 0.0111 - accuracy: 0.0000e+00 - val_loss: 0.0087 - val_accuracy: 0.0000e+00\n",
      "Epoch 73/100\n",
      "17474/17474 [==============================] - 71s 4ms/sample - loss: 0.0113 - accuracy: 0.0000e+00 - val_loss: 0.0172 - val_accuracy: 0.0000e+00\n",
      "Epoch 74/100\n",
      "17474/17474 [==============================] - 79s 5ms/sample - loss: 0.0140 - accuracy: 0.0000e+00 - val_loss: 0.0169 - val_accuracy: 0.0000e+00\n",
      "Epoch 75/100\n",
      "17474/17474 [==============================] - 60s 3ms/sample - loss: 0.0107 - accuracy: 0.0000e+00 - val_loss: 0.0149 - val_accuracy: 0.0000e+00\n",
      "Epoch 76/100\n",
      "17474/17474 [==============================] - 66s 4ms/sample - loss: 0.0124 - accuracy: 0.0000e+00 - val_loss: 0.0435 - val_accuracy: 0.0000e+00\n",
      "Epoch 77/100\n",
      "17474/17474 [==============================] - 62s 4ms/sample - loss: 0.0116 - accuracy: 0.0000e+00 - val_loss: 0.0330 - val_accuracy: 0.0000e+00\n",
      "Epoch 78/100\n",
      "17474/17474 [==============================] - 63s 4ms/sample - loss: 0.0127 - accuracy: 0.0000e+00 - val_loss: 0.0492 - val_accuracy: 0.0000e+00\n",
      "Epoch 79/100\n",
      "17474/17474 [==============================] - 59s 3ms/sample - loss: 0.0149 - accuracy: 0.0000e+00 - val_loss: 0.0439 - val_accuracy: 0.0000e+00\n",
      "Epoch 80/100\n",
      "17474/17474 [==============================] - 60s 3ms/sample - loss: 0.0107 - accuracy: 0.0000e+00 - val_loss: 0.0127 - val_accuracy: 0.0000e+00\n",
      "Epoch 81/100\n",
      "17474/17474 [==============================] - 63s 4ms/sample - loss: 0.0124 - accuracy: 0.0000e+00 - val_loss: 0.0577 - val_accuracy: 0.0000e+00\n",
      "Epoch 82/100\n",
      "17474/17474 [==============================] - 76s 4ms/sample - loss: 0.0121 - accuracy: 0.0000e+00 - val_loss: 0.0290 - val_accuracy: 0.0000e+00\n",
      "Epoch 83/100\n",
      "17474/17474 [==============================] - 66s 4ms/sample - loss: 0.0106 - accuracy: 0.0000e+00 - val_loss: 0.0168 - val_accuracy: 0.0000e+00\n",
      "Epoch 84/100\n",
      "17474/17474 [==============================] - 70s 4ms/sample - loss: 0.0106 - accuracy: 0.0000e+00 - val_loss: 0.0463 - val_accuracy: 0.0000e+00\n",
      "Epoch 85/100\n",
      "17474/17474 [==============================] - 63s 4ms/sample - loss: 0.0127 - accuracy: 0.0000e+00 - val_loss: 0.0662 - val_accuracy: 0.0000e+00\n",
      "Epoch 86/100\n",
      "17474/17474 [==============================] - 84s 5ms/sample - loss: 0.0109 - accuracy: 0.0000e+00 - val_loss: 0.0151 - val_accuracy: 0.0000e+00\n",
      "Epoch 87/100\n",
      "17474/17474 [==============================] - 65s 4ms/sample - loss: 0.0117 - accuracy: 0.0000e+00 - val_loss: 0.0099 - val_accuracy: 0.0000e+00\n",
      "Epoch 88/100\n",
      "17474/17474 [==============================] - 69s 4ms/sample - loss: 0.0110 - accuracy: 0.0000e+00 - val_loss: 0.0224 - val_accuracy: 0.0000e+00\n",
      "Epoch 89/100\n",
      "17474/17474 [==============================] - 72s 4ms/sample - loss: 0.0102 - accuracy: 0.0000e+00 - val_loss: 0.0195 - val_accuracy: 0.0000e+00\n",
      "Epoch 90/100\n",
      "17474/17474 [==============================] - 90s 5ms/sample - loss: 0.0100 - accuracy: 0.0000e+00 - val_loss: 0.0280 - val_accuracy: 0.0000e+00\n",
      "Epoch 91/100\n",
      "17474/17474 [==============================] - 64s 4ms/sample - loss: 0.0121 - accuracy: 0.0000e+00 - val_loss: 0.0185 - val_accuracy: 0.0000e+00\n",
      "Epoch 92/100\n",
      "17474/17474 [==============================] - 77s 4ms/sample - loss: 0.0127 - accuracy: 0.0000e+00 - val_loss: 0.0250 - val_accuracy: 0.0000e+00\n",
      "Epoch 93/100\n",
      "17474/17474 [==============================] - 60s 3ms/sample - loss: 0.0133 - accuracy: 0.0000e+00 - val_loss: 0.0085 - val_accuracy: 0.0000e+00\n",
      "Epoch 94/100\n",
      "17474/17474 [==============================] - 66s 4ms/sample - loss: 0.0106 - accuracy: 0.0000e+00 - val_loss: 0.0267 - val_accuracy: 0.0000e+00\n",
      "Epoch 95/100\n",
      "17474/17474 [==============================] - 75s 4ms/sample - loss: 0.0117 - accuracy: 0.0000e+00 - val_loss: 0.0065 - val_accuracy: 0.0000e+00\n",
      "Epoch 96/100\n",
      "17474/17474 [==============================] - 63s 4ms/sample - loss: 0.0127 - accuracy: 0.0000e+00 - val_loss: 0.0669 - val_accuracy: 0.0000e+00\n",
      "Epoch 97/100\n",
      "17474/17474 [==============================] - 67s 4ms/sample - loss: 0.0133 - accuracy: 0.0000e+00 - val_loss: 0.0141 - val_accuracy: 0.0000e+00\n",
      "Epoch 98/100\n",
      "17474/17474 [==============================] - 63s 4ms/sample - loss: 0.0130 - accuracy: 0.0000e+00 - val_loss: 0.0247 - val_accuracy: 0.0000e+00\n",
      "Epoch 99/100\n",
      "17474/17474 [==============================] - 63s 4ms/sample - loss: 0.0101 - accuracy: 0.0000e+00 - val_loss: 0.0068 - val_accuracy: 0.0000e+00\n",
      "Epoch 100/100\n",
      "17474/17474 [==============================] - 67s 4ms/sample - loss: 0.0098 - accuracy: 0.0000e+00 - val_loss: 0.0244 - val_accuracy: 0.0000e+00\n"
     ]
    }
   ],
   "source": [
    "lstm1.compile(optimizer = 'nadam', loss = 'mean_squared_error', metrics=[\"accuracy\"]) #Compile and train the model\n",
    "\n",
    "history = lstm1.fit(X_train, y_train, epochs = 100, batch_size = 32, validation_split=0.1, shuffle=False)"
   ]
  },
  {
   "cell_type": "code",
   "execution_count": 64,
   "metadata": {},
   "outputs": [
    {
     "name": "stdout",
     "output_type": "stream",
     "text": [
      "Model: \"sequential_2\"\n",
      "_________________________________________________________________\n",
      "Layer (type)                 Output Shape              Param #   \n",
      "=================================================================\n",
      "lstm_8 (LSTM)                (None, 10, 50)            10600     \n",
      "_________________________________________________________________\n",
      "dropout_8 (Dropout)          (None, 10, 50)            0         \n",
      "_________________________________________________________________\n",
      "lstm_9 (LSTM)                (None, 10, 50)            20200     \n",
      "_________________________________________________________________\n",
      "dropout_9 (Dropout)          (None, 10, 50)            0         \n",
      "_________________________________________________________________\n",
      "lstm_10 (LSTM)               (None, 10, 50)            20200     \n",
      "_________________________________________________________________\n",
      "dropout_10 (Dropout)         (None, 10, 50)            0         \n",
      "_________________________________________________________________\n",
      "lstm_11 (LSTM)               (None, 50)                20200     \n",
      "_________________________________________________________________\n",
      "dropout_11 (Dropout)         (None, 50)                0         \n",
      "_________________________________________________________________\n",
      "dense_2 (Dense)              (None, 1)                 51        \n",
      "=================================================================\n",
      "Total params: 71,251\n",
      "Trainable params: 71,251\n",
      "Non-trainable params: 0\n",
      "_________________________________________________________________\n",
      "None\n"
     ]
    }
   ],
   "source": [
    "print(lstm1.summary())"
   ]
  },
  {
   "cell_type": "code",
   "execution_count": 95,
   "metadata": {},
   "outputs": [
    {
     "data": {
      "text/plain": [
       "<function matplotlib.pyplot.legend(*args, **kwargs)>"
      ]
     },
     "execution_count": 95,
     "metadata": {},
     "output_type": "execute_result"
    },
    {
     "data": {
      "image/png": "[encoded data removed]",
      "text/plain": [
       "<Figure size 432x288 with 1 Axes>"
      ]
     },
     "metadata": {
      "needs_background": "light"
     },
     "output_type": "display_data"
    }
   ],
   "source": [
    "plt.plot(history.history[\"loss\"], label=\"train\")\n",
    "plt.plot(history.history[\"val_loss\"], label=\"validation\")\n",
    "plt.legend"
   ]
  },
  {
   "cell_type": "code",
   "execution_count": 96,
   "metadata": {},
   "outputs": [],
   "source": [
    "y_pred = lstm1.predict(X_test)"
   ]
  },
  {
   "cell_type": "code",
   "execution_count": 97,
   "metadata": {},
   "outputs": [],
   "source": [
    "y_train_inv = yscale.inverse_transform(y_train.reshape(1, -1))\n",
    "y_test_inv = yscale.inverse_transform(y_test.reshape(1, -1))\n",
    "y_pred_inv  = yscale.inverse_transform(y_pred)"
   ]
  },
  {
   "cell_type": "code",
   "execution_count": 98,
   "metadata": {},
   "outputs": [
    {
     "data": {
      "image/png": "[encoded data removed]",
      "text/plain": [
       "<Figure size 432x288 with 1 Axes>"
      ]
     },
     "metadata": {
      "needs_background": "light"
     },
     "output_type": "display_data"
    }
   ],
   "source": [
    "plt.plot(y_test_inv.flatten())\n",
    "plt.plot(y_pred_inv.flatten())\n",
    "plt.rcParams[\"figure.figsize\"] = (18,6)"
   ]
  },
  {
   "cell_type": "code",
   "execution_count": 109,
   "metadata": {},
   "outputs": [
    {
     "name": "stdout",
     "output_type": "stream",
     "text": [
      "93.81995229280146\n",
      "[[[-0.57445791 -1.46737482]\n",
      "  [-0.59787773 -1.45902077]\n",
      "  [-0.61338546 -1.45067507]\n",
      "  [-0.64152264 -1.44233769]\n",
      "  [-0.65565117 -1.41322219]\n",
      "  [-0.69827931 -1.40492207]\n",
      "  [-0.72690251 -1.31908593]\n",
      "  [-0.74744903 -1.3256575 ]\n",
      "  [-0.76188229 -1.34128573]\n",
      "  [-0.79762986 -1.3330567 ]]]\n"
     ]
    }
   ],
   "source": [
    "test1 = lstm1(X_train[0:1]).numpy()\n",
    "test1 = yscale.inverse_transform(test1.reshape(1, -1))\n",
    "test2 = float(test1)\n",
    "test3 = math.exp(test2)\n",
    "print(test3)\n",
    "print(X_train[0:1])"
   ]
  },
  {
   "cell_type": "code",
   "execution_count": 101,
   "metadata": {},
   "outputs": [
    {
     "name": "stdout",
     "output_type": "stream",
     "text": [
      "WARNING:tensorflow:From /Users/karangarg/opt/anaconda3/lib/python3.7/site-packages/tensorflow_core/python/ops/resource_variable_ops.py:1781: calling BaseResourceVariable.__init__ (from tensorflow.python.ops.resource_variable_ops) with constraint is deprecated and will be removed in a future version.\n",
      "Instructions for updating:\n",
      "If using Keras pass *_constraint arguments to layers.\n",
      "INFO:tensorflow:Assets written to: /Users/karangarg/Documents/Year 3 Modules/EC331/Code/rae_repo/lstms/lstm1/assets\n"
     ]
    }
   ],
   "source": [
    "lstm1.save(\"/Users/karangarg/Documents/Year 3 Modules/EC331/Code/rae_repo/lstms/lstm1\")"
   ]
  },
  {
   "cell_type": "code",
   "execution_count": null,
   "metadata": {},
   "outputs": [],
   "source": []
  }
 ],
 "metadata": {
  "kernelspec": {
   "display_name": "Python 3",
   "language": "python",
   "name": "python3"
  },
  "language_info": {
   "codemirror_mode": {
    "name": "ipython",
    "version": 3
   },
   "file_extension": ".py",
   "mimetype": "text/x-python",
   "name": "python",
   "nbconvert_exporter": "python",
   "pygments_lexer": "ipython3",
   "version": "3.7.4"
  }
 },
 "nbformat": 4,
 "nbformat_minor": 2
}
