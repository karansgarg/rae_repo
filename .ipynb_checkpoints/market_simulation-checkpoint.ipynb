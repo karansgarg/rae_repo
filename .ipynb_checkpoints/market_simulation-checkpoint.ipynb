{
 "cells": [
  {
   "cell_type": "markdown",
   "metadata": {},
   "source": [
    "# Simulation\n",
    "\n",
    "This is all the code for the simulation of the market, including the traders, the asset and the market mechanism."
   ]
  },
  {
   "cell_type": "code",
   "execution_count": 1,
   "metadata": {},
   "outputs": [],
   "source": [
    "# Import relevant packages\n",
    "\n",
    "import numpy as np\n",
    "import pandas as pd\n",
    "import matplotlib.pyplot as plt\n",
    "import random\n",
    "import time\n",
    "import pymarket\n",
    "import networkx"
   ]
  },
  {
   "cell_type": "code",
   "execution_count": 21,
   "metadata": {},
   "outputs": [
    {
     "name": "stdout",
     "output_type": "stream",
     "text": [
      "[103.66409468171533, 103.89814512467777, 104.14497636135495, 104.37957710844259, 104.60363589789199, 104.69415809889952, 104.73431348817658, 104.74078040114382, 104.78503038071372, 104.81117570638585, 104.84690647083076, 104.9107468805234, 105.0224456386381, 105.10014927705944, 105.26198478295449, 105.43186231862676, 105.59884090493884, 105.8011308451099, 105.95783759541708, 106.19200410107388, 106.49054705063892, 106.69840287507888, 106.92763700188466, 107.07809562698742, 107.1791181187253, 107.3369862437163, 107.62494063608767, 107.92188401005868, 108.16248328248855, 108.38661743124251, 108.58945142188736, 108.844252036869, 108.98665627660452, 109.10092363822544, 109.07887584140867, 108.89853764533636, 108.68117638174249, 108.34589672991187, 108.01449265794488, 107.69151698244453, 107.3051078662827, 106.92101015024494, 106.43899566278976, 106.0477685332728, 105.69904443811986, 105.35142541482837, 104.96005475920254, 104.56230674209414, 104.20570687153304, 103.95297335534232, 103.70590013400351, 103.46489109311722, 103.30051577370872, 103.17184968689646, 103.09351420983296, 103.08104632194613, 103.03188770370575, 103.06913601907289, 103.09991682892198, 103.1132606329935, 103.17665960045818, 103.34734058755842, 103.61482656906955, 103.84688224037916, 104.09138860309486, 104.37002806537207, 104.64092121928797, 105.0127911765871, 105.33225483419463, 105.54744407233916, 105.87115330191173, 106.18985826951749, 106.51047195173787, 106.88527244156326, 107.2613520917876, 107.61468734828945, 108.0330833575832, 108.41783064826623, 108.86670168026292, 109.35325679231373, 109.76042242009457]\n"
     ]
    }
   ],
   "source": [
    "# Initialise the trading asset, as well as 100 previous random prices so that the technical analyst traders have some\n",
    "# material to use to make their inital trading decisions.\n",
    "\n",
    "period = []\n",
    "start = -100\n",
    "\n",
    "for i in range(100):\n",
    "    period.append(start)\n",
    "    start += 1\n",
    "    \n",
    "asset_prices = []\n",
    "price = 100\n",
    "\n",
    "for i in range(100):\n",
    "    asset_prices.append(price)\n",
    "    price = price + np.random.normal(loc=0.1, scale=1.0, size=None) #Generate random prices for 100 periods\n",
    "    \n",
    "beta = []\n",
    "\n",
    "for i in range(100):\n",
    "    beta.append(1) #Assume beta has remained unchanged for previous periods\n",
    "    \n",
    "def moving_average(price_list, window): #Define a function to calculate simple moving averages\n",
    "    \n",
    "    window_size = window\n",
    "    price_series = pd.Series(price_list)\n",
    "    windows = price_series.rolling(window_size)\n",
    "    ma = windows.mean()\n",
    "    ma_list = ma.tolist()\n",
    "    ma_final = ma_list[window_size - 1:]\n",
    "    \n",
    "    return ma_final\n",
    "    \n",
    "ma20 = moving_average(asset_prices, 20)\n",
    "ma80 = moving_average(asset_prices, 80)\n",
    "\n",
    "asset = {\"period\": period, \"price\": asset_prices, \"beta\": beta}\n",
    "assetdf = pd.DataFrame(data=asset)\n",
    "\n",
    "plt.plot()"
   ]
  },
  {
   "cell_type": "code",
   "execution_count": null,
   "metadata": {},
   "outputs": [],
   "source": [
    "# Define the different types of traders and the syntax of how they receive information and place orders accordingly.\n",
    "\n",
    "class schart:\n",
    "    "
   ]
  }
 ],
 "metadata": {
  "kernelspec": {
   "display_name": "Python 3",
   "language": "python",
   "name": "python3"
  },
  "language_info": {
   "codemirror_mode": {
    "name": "ipython",
    "version": 3
   },
   "file_extension": ".py",
   "mimetype": "text/x-python",
   "name": "python",
   "nbconvert_exporter": "python",
   "pygments_lexer": "ipython3",
   "version": "3.7.4"
  }
 },
 "nbformat": 4,
 "nbformat_minor": 2
}
