{
 "cells": [
  {
   "cell_type": "code",
   "execution_count": 1,
   "metadata": {},
   "outputs": [],
   "source": [
    "import numpy as np #Import relevant packages\n",
    "import pandas as pd\n",
    "import math\n",
    "import tensorflow as tf\n",
    "from tensorflow import keras\n",
    "from tensorflow.keras import layers\n",
    "from sklearn.preprocessing import StandardScaler\n",
    "from sklearn.metrics import mean_squared_error\n",
    "import glob\n",
    "import csv\n",
    "import matplotlib.pyplot as plt\n",
    "\n",
    "def unpack_data(filepath): #Returns a dictionary where each item is a df containing one run. One dict per generation.\n",
    "    all_files = glob.glob(filepath + \"/*.csv\")\n",
    "    name_list = []\n",
    "    datadict = {}\n",
    "    for f in all_files:\n",
    "        name_list.append(f[77:-4])\n",
    "    for i,n in enumerate(name_list):\n",
    "        datadict[n] = pd.read_csv(all_files[i], header=0)\n",
    "    for k, v in datadict.items():\n",
    "        v.drop(columns=[\"Unnamed: 0\", \"volume\", \"spread\", \"10_MA\", \"50_MA\"], inplace=True)\n",
    "    return datadict\n",
    "\n",
    "def format_data(datadict, window): #Turn dictionaries of data into features and samples lists\n",
    "    x_data = []\n",
    "    y_data = []\n",
    "    for k, v in datadict.items():\n",
    "        for i in range(len(v)):\n",
    "            if i >= window:\n",
    "                y_data.append(v.iloc[i][\"trading_price\"])\n",
    "                xi = v.iloc[i-window:i].to_numpy()\n",
    "                x_data.append(xi)\n",
    "    x_data = np.array(x_data)\n",
    "    y_data = np.array(y_data)\n",
    "    y_data = np.reshape(y_data, (y_data.shape[0], 1))\n",
    "    return x_data, y_data\n",
    "\n",
    "def normalise_data(xarray, yarray): #Take the natural log and then normalise prices\n",
    "    yarray_log = np.log(yarray)\n",
    "    xarray_log = np.log(xarray)\n",
    "    xsc = StandardScaler()\n",
    "    instances, timesteps, features = xarray_log.shape\n",
    "    xarray_log = np.reshape(xarray_log, (-1, features))\n",
    "    xarray_norm = xsc.fit_transform(xarray_log)\n",
    "    xarray_norm = np.reshape(xarray_norm, (instances, timesteps, features))\n",
    "    ysc = StandardScaler().fit(yarray_log)\n",
    "    yarray_norm = ysc.transform(yarray_log)\n",
    "    return xarray_norm, yarray_norm, xsc, ysc\n",
    "\n",
    "def split_data(xarray, yarray, trainratio): #Split the data into training and test sets\n",
    "    train_len = int(len(xarray)*trainratio)\n",
    "    test_len = len(xarray) - train_len\n",
    "    x_train, y_train, x_test, y_test = xarray[:train_len], yarray[:train_len], xarray[train_len:], yarray[train_len:]\n",
    "    return x_train, y_train, x_test, y_test"
   ]
  },
  {
   "cell_type": "code",
   "execution_count": 2,
   "metadata": {},
   "outputs": [],
   "source": [
    "gen21 = unpack_data(\"/Users/karangarg/Documents/Year 3 Modules/EC331/Code/rae_repo/simulations/gen21_sims/data\")"
   ]
  },
  {
   "cell_type": "code",
   "execution_count": 3,
   "metadata": {},
   "outputs": [
    {
     "name": "stdout",
     "output_type": "stream",
     "text": [
      "(32914, 20, 2)\n",
      "(32914, 1)\n"
     ]
    }
   ],
   "source": [
    "X22, y22 = format_data(gen21, 20)\n",
    "print(X22.shape)\n",
    "print(y22.shape)"
   ]
  },
  {
   "cell_type": "code",
   "execution_count": 4,
   "metadata": {},
   "outputs": [],
   "source": [
    "X22_train, y22_train, X22_test, y22_test = split_data(X22, y22, 0.8)"
   ]
  },
  {
   "cell_type": "code",
   "execution_count": 5,
   "metadata": {},
   "outputs": [],
   "source": [
    "X22_train, y22_train, X22scale, y22scale = normalise_data(X22_train, y22_train)\n",
    "X22_test, y22_test, _, _ = normalise_data(X22_test, y22_test)"
   ]
  },
  {
   "cell_type": "code",
   "execution_count": 6,
   "metadata": {},
   "outputs": [
    {
     "name": "stdout",
     "output_type": "stream",
     "text": [
      "[4.63312152 4.8018087 ]\n",
      "[0.19494002 0.01592991]\n",
      "[4.63345781]\n",
      "[0.21120037]\n"
     ]
    }
   ],
   "source": [
    "print(X22scale.mean_)\n",
    "print(X22scale.var_)\n",
    "print(y22scale.mean_)\n",
    "print(y22scale.var_)"
   ]
  },
  {
   "cell_type": "code",
   "execution_count": 7,
   "metadata": {},
   "outputs": [
    {
     "name": "stdout",
     "output_type": "stream",
     "text": [
      "Model: \"sequential\"\n",
      "_________________________________________________________________\n",
      "Layer (type)                 Output Shape              Param #   \n",
      "=================================================================\n",
      "lstm (LSTM)                  (None, 16)                1216      \n",
      "_________________________________________________________________\n",
      "dropout (Dropout)            (None, 16)                0         \n",
      "_________________________________________________________________\n",
      "dense (Dense)                (None, 1)                 17        \n",
      "=================================================================\n",
      "Total params: 1,233\n",
      "Trainable params: 1,233\n",
      "Non-trainable params: 0\n",
      "_________________________________________________________________\n",
      "None\n"
     ]
    }
   ],
   "source": [
    "lstm22=keras.Sequential() #Set up the architecture of the model\n",
    "\n",
    "lstm22.add(layers.LSTM(units=16, input_shape=(X22_train.shape[1], X22_train.shape[2])))\n",
    "lstm22.add(layers.Dropout(0.2))\n",
    "\n",
    "lstm22.add(layers.Dense(units=1))\n",
    "\n",
    "print(lstm22.summary())"
   ]
  },
  {
   "cell_type": "code",
   "execution_count": null,
   "metadata": {},
   "outputs": [],
   "source": [
    "lstm22.compile(optimizer='nadam', loss='mean_squared_error') #Compile and train the model\n",
    "\n",
    "history22 = lstm22.fit(X22_train, y22_train, epochs = 10, batch_size = 32, validation_split=0.2, shuffle=False)"
   ]
  }
 ],
 "metadata": {
  "kernelspec": {
   "display_name": "Python 3",
   "language": "python",
   "name": "python3"
  },
  "language_info": {
   "codemirror_mode": {
    "name": "ipython",
    "version": 3
   },
   "file_extension": ".py",
   "mimetype": "text/x-python",
   "name": "python",
   "nbconvert_exporter": "python",
   "pygments_lexer": "ipython3",
   "version": "3.7.4"
  }
 },
 "nbformat": 4,
 "nbformat_minor": 2
}
