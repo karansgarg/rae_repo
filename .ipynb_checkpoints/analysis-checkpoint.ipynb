{
 "cells": [
  {
   "cell_type": "markdown",
   "metadata": {},
   "source": [
    "## Analysis\n",
    "\n",
    "This notebook contains the code for the analysis of the final dataset. While rigorous econometric analysis is limited (due to the nature of the dataset), some basic tests for market efficiency can reveal a lot of insight as to how the machine learning traders affected the market.\n",
    "\n",
    "The tests we will conduct will look at a variety of factors, including mean-reversion tendencies, run tests and whether our different types of traders outperformed some simple strategies such as filters and buy-and-hold strategies."
   ]
  },
  {
   "cell_type": "code",
   "execution_count": 21,
   "metadata": {},
   "outputs": [],
   "source": [
    "import numpy as np\n",
    "import pandas as pd\n",
    "import math\n",
    "import matplotlib.pyplot as plt\n",
    "import csv\n",
    "import glob"
   ]
  },
  {
   "cell_type": "code",
   "execution_count": 46,
   "metadata": {},
   "outputs": [],
   "source": [
    "def unpack_data(filepath): #Returns a dictionary where each item is a df containing one run, one dict per generation\n",
    "    all_files = glob.glob(filepath + \"/*.csv\")\n",
    "    name_list = []\n",
    "    datadict = {}\n",
    "    for f in all_files:\n",
    "        name_list.append(f[89:-4])\n",
    "    for i,n in enumerate(name_list):\n",
    "        datadict[n] = pd.read_csv(all_files[i], header=0)\n",
    "#    for k, v in datadict.items():\n",
    "#        v.drop(columns=[\"Unnamed: 0\", \"volume\", \"spread\", \"10_MA\", \"50_MA\"], inplace=True)\n",
    "    return datadict"
   ]
  },
  {
   "cell_type": "code",
   "execution_count": 47,
   "metadata": {},
   "outputs": [],
   "source": [
    "gendict = {}\n",
    "for i in range(51):\n",
    "    genname = f\"gen{i}\"\n",
    "    gendict[genname] = unpack_data(f\"/Users/karangarg/Documents/Year 3 Modules/EC331/Code/rae_repo/simulations/gen{i}_sims/data\")\n",
    "    \n",
    "#gen0 = unpack_data(\"/Users/karangarg/Documents/Year 3 Modules/EC331/Code/rae_repo/simulations/gen0_sims/data\") #Load gen0 data"
   ]
  },
  {
   "cell_type": "code",
   "execution_count": 64,
   "metadata": {},
   "outputs": [],
   "source": [
    "def compute_mean_squared_diff(datadict): #Returns average mean squared difference, i.e. the square of the average distance between the true price and trading price for any given period in any given simlation\n",
    "    msd_list = []\n",
    "    for k, v in datadict.items():\n",
    "        diff_list = []\n",
    "        for i in range(len(v)):\n",
    "            squared_diff = (v.iloc[i][\"trading_price\"] - v.iloc[i][\"true_price\"])**2\n",
    "            diff_list.append(squared_diff)\n",
    "        msd = sum(diff_list)/len(diff_list)\n",
    "        msd_list.append(msd) \n",
    "    avg_msd = sum(msd_list)/len(msd_list)\n",
    "    return avg_msd"
   ]
  },
  {
   "cell_type": "code",
   "execution_count": 65,
   "metadata": {},
   "outputs": [],
   "source": [
    "compute_mean_squared_diff(gen0)"
   ]
  },
  {
   "cell_type": "code",
   "execution_count": 60,
   "metadata": {},
   "outputs": [],
   "source": [
    "def reversion_rate(datadict, dev=1): #For any given run of the market, how many times does price deviate and how long does it take to return to the true price\n",
    "    final_avg_return_list = [] #Avg returned run length for individual simulations\n",
    "    final_avg_no_return_list = [] #Avg run length for not returned runs for individual simulations\n",
    "    return_run_length_list = [] #Number of deviations per simulation that return for individual simulations\n",
    "    no_return_run_length_list = [] #Number of deviations per simulation that don't return for individual simulations\n",
    "    for k, v in datadict.items():\n",
    "        run_count = 0\n",
    "        dev_return_list = []\n",
    "        dev_no_return_list = []\n",
    "        for i in range(len(v)):\n",
    "            if abs(v.iloc[i][\"trading_price\"] - v.iloc[i][\"true_price\"]) > dev and abs(v.iloc[i-1][\"trading_price\"] - v.iloc[i-1][\"true_price\"]) <= dev:\n",
    "                for t in range(i, len(v)):\n",
    "                    if abs(v.iloc[t][\"trading_price\"] - v.iloc[t][\"true_price\"]) > dev and t == len(v)-1:\n",
    "                        dev_no_return_list.append(t-i)\n",
    "                        break\n",
    "                    elif abs(v.iloc[t][\"trading_price\"] - v.iloc[t][\"true_price\"]) <= dev:\n",
    "                        dev_return_list.append(t-i)\n",
    "                        break        \n",
    "        if len(dev_return_list) != 0:\n",
    "            avg_return_time = sum(dev_return_list)/len(dev_return_list)\n",
    "            final_avg_return_list.append(avg_return_time)\n",
    "            return_run_length_list.append(len(dev_return_list))\n",
    "        if len(dev_no_return_list) != 0:\n",
    "            avg_no_return_time = sum(dev_no_return_list)/len(dev_no_return_list)\n",
    "            final_avg_no_return_list.append(avg_no_return_time)\n",
    "            no_return_run_length_list.append(len(dev_no_return_list))\n",
    "    final_avg_return = sum(final_avg_return_list)/len(final_avg_return_list) #Length of avg deviation run (that returned)\n",
    "    final_avg_no_return = sum(final_avg_no_return_list)/len(final_avg_no_return_list) #Length of avg deviation run (that didn't return)\n",
    "    avg_no_returns = sum(return_run_length_list)/len(datadict) #Avg number of deviations per run that returned\n",
    "    avg_no_no_returns = sum(no_return_run_length_list)/len(datadict) #Avg number of deviations per run that didn't return\n",
    "    return final_avg_return, final_avg_no_return, avg_no_returns, avg_no_no_returns "
   ]
  },
  {
   "cell_type": "code",
   "execution_count": 61,
   "metadata": {},
   "outputs": [
    {
     "data": {
      "text/plain": [
       "(4.961647762793108, 149.50980392156862, 23.28, 0.51)"
      ]
     },
     "execution_count": 61,
     "metadata": {},
     "output_type": "execute_result"
    }
   ],
   "source": [
    "reversion_rate(gen0)"
   ]
  },
  {
   "cell_type": "code",
   "execution_count": 30,
   "metadata": {},
   "outputs": [],
   "source": [
    "def inefficient_proportion(datadict, dev=1): #Computes the proportion of time that the true and trading prices deviate\n",
    "    prop_list = []\n",
    "    for k, v in datadict.items():\n",
    "        prop_temp = 0\n",
    "        for i in range(len(v)):\n",
    "            if abs(v.iloc[i][\"trading_price\"] - v.iloc[i][\"true_price\"]) > dev:\n",
    "                prop_temp +=1\n",
    "        prop_list.append((prop_temp/len(v)))\n",
    "    prop = sum(prop_list)/len(prop_list)\n",
    "    return prop"
   ]
  },
  {
   "cell_type": "code",
   "execution_count": 31,
   "metadata": {},
   "outputs": [
    {
     "data": {
      "text/plain": [
       "0.5242133546690094"
      ]
     },
     "execution_count": 31,
     "metadata": {},
     "output_type": "execute_result"
    }
   ],
   "source": [
    "inefficient_proportion(gen0)"
   ]
  },
  {
   "cell_type": "code",
   "execution_count": 67,
   "metadata": {},
   "outputs": [
    {
     "ename": "SyntaxError",
     "evalue": "can't assign to literal (<ipython-input-67-4d9ce7923741>, line 3)",
     "output_type": "error",
     "traceback": [
      "\u001b[0;36m  File \u001b[0;32m\"<ipython-input-67-4d9ce7923741>\"\u001b[0;36m, line \u001b[0;32m3\u001b[0m\n\u001b[0;31m    f\"var2{var}\" = \"Example\"\u001b[0m\n\u001b[0m                            ^\u001b[0m\n\u001b[0;31mSyntaxError\u001b[0m\u001b[0;31m:\u001b[0m can't assign to literal\n"
     ]
    }
   ],
   "source": []
  },
  {
   "cell_type": "code",
   "execution_count": null,
   "metadata": {},
   "outputs": [],
   "source": []
  }
 ],
 "metadata": {
  "kernelspec": {
   "display_name": "Python 3",
   "language": "python",
   "name": "python3"
  },
  "language_info": {
   "codemirror_mode": {
    "name": "ipython",
    "version": 3
   },
   "file_extension": ".py",
   "mimetype": "text/x-python",
   "name": "python",
   "nbconvert_exporter": "python",
   "pygments_lexer": "ipython3",
   "version": "3.7.4"
  }
 },
 "nbformat": 4,
 "nbformat_minor": 2
}
