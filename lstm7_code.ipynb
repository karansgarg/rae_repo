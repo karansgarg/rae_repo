{
 "cells": [
  {
   "cell_type": "code",
   "execution_count": 19,
   "metadata": {},
   "outputs": [],
   "source": [
    "import numpy as np #Import relevant packages\n",
    "import pandas as pd\n",
    "import math\n",
    "import tensorflow as tf\n",
    "from tensorflow import keras\n",
    "from tensorflow.keras import layers\n",
    "from sklearn.preprocessing import StandardScaler\n",
    "from sklearn.metrics import mean_squared_error\n",
    "import glob\n",
    "import csv\n",
    "import matplotlib.pyplot as plt"
   ]
  },
  {
   "cell_type": "code",
   "execution_count": 20,
   "metadata": {},
   "outputs": [],
   "source": [
    "def unpack_data(filepath): #Returns a dictionary where each item is a df containing one run. One dict per generation.\n",
    "    all_files = glob.glob(filepath + \"/*.csv\")\n",
    "    name_list = []\n",
    "    datadict = {}\n",
    "    for f in all_files:\n",
    "        name_list.append(f[77:-4])\n",
    "    for i,n in enumerate(name_list):\n",
    "        datadict[n] = pd.read_csv(all_files[i], header=0)\n",
    "    for k, v in datadict.items():\n",
    "        v.drop(columns=[\"Unnamed: 0\", \"volume\", \"spread\", \"10_MA\", \"50_MA\"], inplace=True)\n",
    "    return datadict\n",
    "\n",
    "def format_data(datadict, window): #Turn dictionaries of data into features and samples lists\n",
    "    x_data = []\n",
    "    y_data = []\n",
    "    for k, v in datadict.items():\n",
    "        for i in range(len(v)):\n",
    "            if i >= window:\n",
    "                y_data.append(v.iloc[i][\"trading_price\"])\n",
    "                xi = v.iloc[i-window:i].to_numpy()\n",
    "                x_data.append(xi)\n",
    "    x_data = np.array(x_data)\n",
    "    y_data = np.array(y_data)\n",
    "    y_data = np.reshape(y_data, (y_data.shape[0], 1))\n",
    "    return x_data, y_data\n",
    "\n",
    "def normalise_data(xarray, yarray): #Take the natural log and then normalise prices\n",
    "    yarray_log = np.log(yarray)\n",
    "    xarray_log = np.log(xarray)\n",
    "    xsc = StandardScaler()\n",
    "    instances, timesteps, features = xarray_log.shape\n",
    "    xarray_log = np.reshape(xarray_log, (-1, features))\n",
    "    xarray_norm = xsc.fit_transform(xarray_log)\n",
    "    xarray_norm = np.reshape(xarray_norm, (instances, timesteps, features))\n",
    "    ysc = StandardScaler().fit(yarray_log)\n",
    "    yarray_norm = ysc.transform(yarray_log)\n",
    "    return xarray_norm, yarray_norm, xsc, ysc\n",
    "\n",
    "def split_data(xarray, yarray, trainratio): #Split the data into training and test sets\n",
    "    train_len = int(len(xarray)*trainratio)\n",
    "    test_len = len(xarray) - train_len\n",
    "    x_train, y_train, x_test, y_test = xarray[:train_len], yarray[:train_len], xarray[train_len:], yarray[train_len:]\n",
    "    return x_train, y_train, x_test, y_test"
   ]
  },
  {
   "cell_type": "code",
   "execution_count": 21,
   "metadata": {},
   "outputs": [],
   "source": [
    "gen6 = unpack_data(\"/Users/karangarg/Documents/Year 3 Modules/EC331/Code/rae_repo/gen6_sims/data\")"
   ]
  },
  {
   "cell_type": "code",
   "execution_count": 22,
   "metadata": {},
   "outputs": [
    {
     "name": "stdout",
     "output_type": "stream",
     "text": [
      "(32396, 20, 2)\n",
      "(32396, 1)\n"
     ]
    }
   ],
   "source": [
    "X7, y7 = format_data(gen6, 20)\n",
    "print(X7.shape)\n",
    "print(y7.shape)"
   ]
  },
  {
   "cell_type": "code",
   "execution_count": 23,
   "metadata": {},
   "outputs": [],
   "source": [
    "X7_train, y7_train, X7_test, y7_test = split_data(X7, y7, 0.8)"
   ]
  },
  {
   "cell_type": "code",
   "execution_count": 24,
   "metadata": {},
   "outputs": [],
   "source": [
    "X7_train, y7_train, X7scale, y7scale = normalise_data(X7_train, y7_train)\n",
    "X7_test, y7_test, _, _ = normalise_data(X7_test, y7_test)"
   ]
  },
  {
   "cell_type": "code",
   "execution_count": 25,
   "metadata": {},
   "outputs": [
    {
     "name": "stdout",
     "output_type": "stream",
     "text": [
      "(25916, 20, 2)\n"
     ]
    }
   ],
   "source": [
    "print(X7_train.shape)"
   ]
  },
  {
   "cell_type": "code",
   "execution_count": 26,
   "metadata": {},
   "outputs": [
    {
     "name": "stdout",
     "output_type": "stream",
     "text": [
      "[4.64964313 4.79602204]\n",
      "[0.13180816 0.01529391]\n",
      "[4.65045698]\n",
      "[0.14445192]\n",
      "[[[-0.12249679 -1.54325302]\n",
      "  [-0.13132504 -1.53517092]\n",
      "  [-0.15352026 -1.5270969 ]\n",
      "  ...\n",
      "  [-0.31233482 -1.63351093]\n",
      "  [-0.31587823 -1.62533817]\n",
      "  [-0.33366399 -1.61798974]]\n",
      "\n",
      " [[-0.13132504 -1.53517092]\n",
      "  [-0.15352026 -1.5270969 ]\n",
      "  [-0.15379883 -1.51903094]\n",
      "  ...\n",
      "  [-0.31587823 -1.62533817]\n",
      "  [-0.33366399 -1.61798974]\n",
      "  [-0.35905871 -1.60983264]]\n",
      "\n",
      " [[-0.15352026 -1.5270969 ]\n",
      "  [-0.15379883 -1.51903094]\n",
      "  [-0.16105169 -1.59517057]\n",
      "  ...\n",
      "  [-0.33366399 -1.61798974]\n",
      "  [-0.35905871 -1.60983264]\n",
      "  [-0.38529571 -1.60168376]]\n",
      "\n",
      " ...\n",
      "\n",
      " [[ 0.83655916  0.66856604]\n",
      "  [ 0.81782823  0.6992628 ]\n",
      "  [ 0.83091427  0.7072249 ]\n",
      "  ...\n",
      "  [ 0.88092389  0.78581149]\n",
      "  [ 0.86326365  0.79368887]\n",
      "  [ 0.88111523  0.80155858]]\n",
      "\n",
      " [[ 0.81782823  0.6992628 ]\n",
      "  [ 0.83091427  0.7072249 ]\n",
      "  [ 0.84529562  0.71517918]\n",
      "  ...\n",
      "  [ 0.86326365  0.79368887]\n",
      "  [ 0.88111523  0.80155858]\n",
      "  [ 0.86210795  0.80942065]]\n",
      "\n",
      " [[ 0.83091427  0.7072249 ]\n",
      "  [ 0.84529562  0.71517918]\n",
      "  [ 0.82603869  0.72312563]\n",
      "  ...\n",
      "  [ 0.88111523  0.80155858]\n",
      "  [ 0.86210795  0.80942065]\n",
      "  [ 0.87594442  0.82391517]]]\n",
      "[[-0.34512621]\n",
      " [-0.37018867]\n",
      " [-0.37685447]\n",
      " ...\n",
      " [ 0.82137298]\n",
      " [ 0.83459003]\n",
      " [ 0.83989487]]\n"
     ]
    }
   ],
   "source": [
    "print(X7scale.mean_)\n",
    "print(X7scale.var_)\n",
    "print(y7scale.mean_)\n",
    "print(y7scale.var_)\n",
    "print(X7_train)\n",
    "print(y7_train)"
   ]
  },
  {
   "cell_type": "code",
   "execution_count": 27,
   "metadata": {},
   "outputs": [
    {
     "name": "stdout",
     "output_type": "stream",
     "text": [
      "Model: \"sequential_1\"\n",
      "_________________________________________________________________\n",
      "Layer (type)                 Output Shape              Param #   \n",
      "=================================================================\n",
      "lstm_1 (LSTM)                (None, 16)                1216      \n",
      "_________________________________________________________________\n",
      "dropout_1 (Dropout)          (None, 16)                0         \n",
      "_________________________________________________________________\n",
      "dense_1 (Dense)              (None, 1)                 17        \n",
      "=================================================================\n",
      "Total params: 1,233\n",
      "Trainable params: 1,233\n",
      "Non-trainable params: 0\n",
      "_________________________________________________________________\n",
      "None\n"
     ]
    }
   ],
   "source": [
    "lstm7=keras.Sequential() #Set up the architecture of the model\n",
    "\n",
    "lstm7.add(layers.LSTM(units=16, input_shape=(X7_train.shape[1], X7_train.shape[2])))\n",
    "lstm7.add(layers.Dropout(0.2))\n",
    "\n",
    "lstm7.add(layers.Dense(units=1))\n",
    "\n",
    "print(lstm7.summary())"
   ]
  },
  {
   "cell_type": "code",
   "execution_count": 28,
   "metadata": {},
   "outputs": [
    {
     "name": "stdout",
     "output_type": "stream",
     "text": [
      "Train on 20732 samples, validate on 5184 samples\n",
      "Epoch 1/10\n",
      "20732/20732 [==============================] - 29s 1ms/sample - loss: 0.1402 - val_loss: 0.0100\n",
      "Epoch 2/10\n",
      "20732/20732 [==============================] - 26s 1ms/sample - loss: 0.0263 - val_loss: 0.0056\n",
      "Epoch 3/10\n",
      "20732/20732 [==============================] - 28s 1ms/sample - loss: 0.0211 - val_loss: 0.0090\n",
      "Epoch 4/10\n",
      "20732/20732 [==============================] - 25s 1ms/sample - loss: 0.0206 - val_loss: 0.0062\n",
      "Epoch 5/10\n",
      "20732/20732 [==============================] - 29s 1ms/sample - loss: 0.0204 - val_loss: 0.0062\n",
      "Epoch 6/10\n",
      "20732/20732 [==============================] - 27s 1ms/sample - loss: 0.0194 - val_loss: 0.0050\n",
      "Epoch 7/10\n",
      "20732/20732 [==============================] - 24s 1ms/sample - loss: 0.0185 - val_loss: 0.0074\n",
      "Epoch 8/10\n",
      "20732/20732 [==============================] - 24s 1ms/sample - loss: 0.0177 - val_loss: 0.0312\n",
      "Epoch 9/10\n",
      "20732/20732 [==============================] - 25s 1ms/sample - loss: 0.0184 - val_loss: 0.0052\n",
      "Epoch 10/10\n",
      "20732/20732 [==============================] - 29s 1ms/sample - loss: 0.0183 - val_loss: 0.0048\n"
     ]
    }
   ],
   "source": [
    "lstm7.compile(optimizer='nadam', loss='mean_squared_error') #Compile and train the model\n",
    "\n",
    "history7 = lstm7.fit(X7_train, y7_train, epochs = 10, batch_size = 32, validation_split=0.2, shuffle=False)"
   ]
  },
  {
   "cell_type": "code",
   "execution_count": 29,
   "metadata": {},
   "outputs": [
    {
     "name": "stdout",
     "output_type": "stream",
     "text": [
      "WARNING:tensorflow:From /Users/karangarg/opt/anaconda3/lib/python3.7/site-packages/tensorflow_core/python/ops/resource_variable_ops.py:1781: calling BaseResourceVariable.__init__ (from tensorflow.python.ops.resource_variable_ops) with constraint is deprecated and will be removed in a future version.\n",
      "Instructions for updating:\n",
      "If using Keras pass *_constraint arguments to layers.\n",
      "INFO:tensorflow:Assets written to: /Users/karangarg/Documents/Year 3 Modules/EC331/Code/rae_repo/lstms/lstm7/assets\n"
     ]
    }
   ],
   "source": [
    "lstm7.save(\"/Users/karangarg/Documents/Year 3 Modules/EC331/Code/rae_repo/lstms/lstm7\")"
   ]
  },
  {
   "cell_type": "code",
   "execution_count": 30,
   "metadata": {},
   "outputs": [
    {
     "data": {
      "text/plain": [
       "<matplotlib.legend.Legend at 0x7f827d6864d0>"
      ]
     },
     "execution_count": 30,
     "metadata": {},
     "output_type": "execute_result"
    },
    {
     "data": {
      "image/png": "[encoded data removed]",
      "text/plain": [
       "<Figure size 1080x432 with 1 Axes>"
      ]
     },
     "metadata": {
      "needs_background": "light"
     },
     "output_type": "display_data"
    }
   ],
   "source": [
    "plt.figure(figsize=(15,6))\n",
    "plt.plot(history7.history[\"loss\"], label=\"train\")\n",
    "plt.plot(history7.history[\"val_loss\"], label=\"validation\")\n",
    "plt.legend()"
   ]
  },
  {
   "cell_type": "code",
   "execution_count": 31,
   "metadata": {},
   "outputs": [],
   "source": [
    "y7_pred = lstm7.predict(X7_test)\n",
    "y7_train_inv = y7scale.inverse_transform(y7_train.reshape(1, -1))\n",
    "y7_test_inv = y7scale.inverse_transform(y7_test.reshape(1, -1))\n",
    "y7_pred_inv  = y7scale.inverse_transform(y7_pred)"
   ]
  },
  {
   "cell_type": "code",
   "execution_count": 32,
   "metadata": {},
   "outputs": [
    {
     "data": {
      "text/plain": [
       "<matplotlib.legend.Legend at 0x7f82baee6210>"
      ]
     },
     "execution_count": 32,
     "metadata": {},
     "output_type": "execute_result"
    },
    {
     "data": {
      "image/png": "[encoded data removed]",
      "text/plain": [
       "<Figure size 1080x432 with 1 Axes>"
      ]
     },
     "metadata": {
      "needs_background": "light"
     },
     "output_type": "display_data"
    }
   ],
   "source": [
    "plt.figure(figsize=(15,6))\n",
    "plt.plot(y7_test_inv.flatten(), label=\"Test data\")\n",
    "plt.plot(y7_pred_inv.flatten(), label=\"Model prediction\")\n",
    "plt.legend()"
   ]
  },
  {
   "cell_type": "code",
   "execution_count": null,
   "metadata": {},
   "outputs": [],
   "source": []
  }
 ],
 "metadata": {
  "kernelspec": {
   "display_name": "Python 3",
   "language": "python",
   "name": "python3"
  },
  "language_info": {
   "codemirror_mode": {
    "name": "ipython",
    "version": 3
   },
   "file_extension": ".py",
   "mimetype": "text/x-python",
   "name": "python",
   "nbconvert_exporter": "python",
   "pygments_lexer": "ipython3",
   "version": "3.7.4"
  }
 },
 "nbformat": 4,
 "nbformat_minor": 2
}
