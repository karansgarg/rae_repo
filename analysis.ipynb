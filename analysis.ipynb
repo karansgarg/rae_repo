{
 "cells": [
  {
   "cell_type": "markdown",
   "metadata": {},
   "source": [
    "## Analysis\n",
    "\n",
    "This notebook contains the code for the analysis of the final dataset. While rigorous econometric analysis is limited (due to the nature of the dataset), some basic tests for market efficiency can reveal a lot of insight as to how the machine learning traders affected the market.\n",
    "\n",
    "The tests we will conduct will look at a variety of factors, including "
   ]
  },
  {
   "cell_type": "code",
   "execution_count": 33,
   "metadata": {},
   "outputs": [],
   "source": [
    "import numpy as np\n",
    "import pandas as pd\n",
    "import math\n",
    "import matplotlib.pyplot as plt\n",
    "import csv\n",
    "import glob"
   ]
  },
  {
   "cell_type": "code",
   "execution_count": 34,
   "metadata": {},
   "outputs": [],
   "source": [
    "def unpack_data(filepath): #Returns a dictionary where each item is a df containing one run. One dict per generation.\n",
    "    all_files = glob.glob(filepath + \"/*.csv\")\n",
    "    name_list = []\n",
    "    datadict = {}\n",
    "    for f in all_files:\n",
    "        name_list.append(f[77:-4])\n",
    "    for i,n in enumerate(name_list):\n",
    "        datadict[n] = pd.read_csv(all_files[i], header=0)\n",
    "#    for k, v in datadict.items():\n",
    "#        v.drop(columns=[\"Unnamed: 0\", \"volume\", \"spread\", \"10_MA\", \"50_MA\"], inplace=True)\n",
    "    return datadict"
   ]
  },
  {
   "cell_type": "code",
   "execution_count": 35,
   "metadata": {},
   "outputs": [],
   "source": [
    "gen0 = unpack_data(\"/Users/karangarg/Documents/Year 3 Modules/EC331/Code/rae_repo/gen0_sims/data\") #Load gen0 data"
   ]
  },
  {
   "cell_type": "code",
   "execution_count": 36,
   "metadata": {},
   "outputs": [],
   "source": [
    "def compute_mean_squared_diff(datadict): #Returns average mean squared difference, i.e. the square of the average distance between the true price and trading price for any given period in any given simlation\n",
    "    msd_list = []\n",
    "    msd_dict = {}\n",
    "    for k, v in datadict.items():\n",
    "        diff_list = []\n",
    "        for i in range(len(v)):\n",
    "            squared_diff = (v.iloc[i][\"trading_price\"] - v.iloc[i][\"true_price\"])**2\n",
    "            diff_list.append(squared_diff)\n",
    "        msd = sum(diff_list)/len(diff_list)\n",
    "        msd_list.append(msd)\n",
    "        msd_dict[k] = msd\n",
    "    avg_msd = sum(msd_list)/len(msd_list)\n",
    "    return avg_msd, msd_dict"
   ]
  },
  {
   "cell_type": "code",
   "execution_count": 37,
   "metadata": {},
   "outputs": [],
   "source": [
    "#gen0_msd, gen0_msd_dict = compute_mean_squared_diff(gen0)"
   ]
  },
  {
   "cell_type": "code",
   "execution_count": 38,
   "metadata": {},
   "outputs": [],
   "source": [
    "def reversion_rate(datadict): #For any given run of the market, how many times does price deviate and how long does it take to return to the true price\n",
    "    for k, v in datadict.items():\n",
    "        run_count = 0\n",
    "        dev_return_list = []\n",
    "        for i in range(1, len(v)):\n",
    "            if abs(v.iloc[i][\"trading_price\"] - v.iloc[i][\"true_price\"]) > 1 and abs(v.iloc[i-1][\"trading_price\"] - v.iloc[i-1][\"true_price\"]) <= 1:\n",
    "                for t in range(1, len(v)-i+1):\n",
    "                    if abs(v.iloc[i+t-1][\"trading_price\"] - v.iloc[i+t-1][\"true_price\"]) > 1 and t == len(v)-i:\n",
    "                        dev_return_list.append((\"nr\", t))\n",
    "                        break\n",
    "                    elif abs(v.iloc[i+t][\"trading_price\"] - v.iloc[i+t][\"true_price\"]) <= 1:\n",
    "                        dev_return_list.append((\"r\", t))\n",
    "                        break\n",
    "    return dev_return_list"
   ]
  },
  {
   "cell_type": "code",
   "execution_count": 32,
   "metadata": {},
   "outputs": [
    {
     "data": {
      "text/plain": [
       "[('r', 3),\n",
       " ('r', 4),\n",
       " ('r', 6),\n",
       " ('r', 7),\n",
       " ('r', 2),\n",
       " ('r', 2),\n",
       " ('r', 2),\n",
       " ('r', 2),\n",
       " ('r', 2),\n",
       " ('r', 2),\n",
       " ('r', 3),\n",
       " ('r', 3),\n",
       " ('r', 3),\n",
       " ('r', 2),\n",
       " ('r', 8),\n",
       " ('r', 14),\n",
       " ('r', 4),\n",
       " ('r', 3),\n",
       " ('r', 2),\n",
       " ('r', 2),\n",
       " ('r', 2),\n",
       " ('r', 2),\n",
       " ('r', 2),\n",
       " ('r', 2),\n",
       " ('r', 3),\n",
       " ('r', 4),\n",
       " ('r', 2),\n",
       " ('r', 2),\n",
       " ('r', 2),\n",
       " ('r', 2),\n",
       " ('r', 2),\n",
       " ('r', 2),\n",
       " ('r', 2),\n",
       " ('r', 2),\n",
       " ('r', 2),\n",
       " ('r', 2),\n",
       " ('r', 2),\n",
       " ('r', 2),\n",
       " ('r', 2),\n",
       " ('r', 2),\n",
       " ('r', 2),\n",
       " ('r', 2),\n",
       " ('r', 2),\n",
       " ('r', 2),\n",
       " ('r', 2),\n",
       " ('r', 2),\n",
       " ('r', 2)]"
      ]
     },
     "execution_count": 32,
     "metadata": {},
     "output_type": "execute_result"
    }
   ],
   "source": [
    "reversion_rate(gen0)"
   ]
  },
  {
   "cell_type": "code",
   "execution_count": 41,
   "metadata": {},
   "outputs": [],
   "source": [
    "def inefficient_proportion(datadict): #Computes the proportion of time that the true and trading price deviate (1%)\n",
    "    prop_list = []\n",
    "    for k, v in datadict.items():\n",
    "        prop_temp = 0\n",
    "        for i in range(len(v)-1):\n",
    "            if abs(v.iloc[i][\"trading_price\"] - v.iloc[i][\"true_price\"]) > 1:\n",
    "                prop_temp +=1\n",
    "        prop_list.append((prop_temp/len(v)))\n",
    "    prop = sum(prop_list)/len(prop_list)\n",
    "    return prop"
   ]
  },
  {
   "cell_type": "code",
   "execution_count": 42,
   "metadata": {},
   "outputs": [
    {
     "data": {
      "text/plain": [
       "0.5210179168669219"
      ]
     },
     "execution_count": 42,
     "metadata": {},
     "output_type": "execute_result"
    }
   ],
   "source": [
    "inefficient_proportion(gen0)"
   ]
  },
  {
   "cell_type": "code",
   "execution_count": null,
   "metadata": {},
   "outputs": [],
   "source": []
  }
 ],
 "metadata": {
  "kernelspec": {
   "display_name": "Python 3",
   "language": "python",
   "name": "python3"
  },
  "language_info": {
   "codemirror_mode": {
    "name": "ipython",
    "version": 3
   },
   "file_extension": ".py",
   "mimetype": "text/x-python",
   "name": "python",
   "nbconvert_exporter": "python",
   "pygments_lexer": "ipython3",
   "version": "3.7.4"
  }
 },
 "nbformat": 4,
 "nbformat_minor": 2
}
