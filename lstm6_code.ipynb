{
 "cells": [
  {
   "cell_type": "code",
   "execution_count": 1,
   "metadata": {},
   "outputs": [],
   "source": [
    "import numpy as np #Import relevant packages\n",
    "import pandas as pd\n",
    "import math\n",
    "import tensorflow as tf\n",
    "from tensorflow import keras\n",
    "from tensorflow.keras import layers\n",
    "from sklearn.preprocessing import StandardScaler\n",
    "from sklearn.metrics import mean_squared_error\n",
    "import glob\n",
    "import csv\n",
    "import matplotlib.pyplot as plt"
   ]
  },
  {
   "cell_type": "code",
   "execution_count": 2,
   "metadata": {},
   "outputs": [],
   "source": [
    "def unpack_data(filepath): #Returns a dictionary where each item is a df containing one run. One dict per generation.\n",
    "    all_files = glob.glob(filepath + \"/*.csv\")\n",
    "    name_list = []\n",
    "    datadict = {}\n",
    "    for f in all_files:\n",
    "        name_list.append(f[77:-4])\n",
    "    for i,n in enumerate(name_list):\n",
    "        datadict[n] = pd.read_csv(all_files[i], header=0)\n",
    "    for k, v in datadict.items():\n",
    "        v.drop(columns=[\"Unnamed: 0\", \"volume\", \"spread\", \"10_MA\", \"50_MA\"], inplace=True)\n",
    "    return datadict\n",
    "\n",
    "def format_data(datadict, window): #Turn dictionaries of data into features and samples lists\n",
    "    x_data = []\n",
    "    y_data = []\n",
    "    for k, v in datadict.items():\n",
    "        for i in range(len(v)):\n",
    "            if i >= window:\n",
    "                y_data.append(v.iloc[i][\"trading_price\"])\n",
    "                xi = v.iloc[i-window:i].to_numpy()\n",
    "                x_data.append(xi)\n",
    "    x_data = np.array(x_data)\n",
    "    y_data = np.array(y_data)\n",
    "    y_data = np.reshape(y_data, (y_data.shape[0], 1))\n",
    "    return x_data, y_data\n",
    "\n",
    "def normalise_data(xarray, yarray): #Take the natural log and then normalise prices\n",
    "    yarray_log = np.log(yarray)\n",
    "    xarray_log = np.log(xarray)\n",
    "    xsc = StandardScaler()\n",
    "    instances, timesteps, features = xarray_log.shape\n",
    "    xarray_log = np.reshape(xarray_log, (-1, features))\n",
    "    xarray_norm = xsc.fit_transform(xarray_log)\n",
    "    xarray_norm = np.reshape(xarray_norm, (instances, timesteps, features))\n",
    "    ysc = StandardScaler().fit(yarray_log)\n",
    "    yarray_norm = ysc.transform(yarray_log)\n",
    "    return xarray_norm, yarray_norm, xsc, ysc\n",
    "\n",
    "def split_data(xarray, yarray, trainratio): #Split the data into training and test sets\n",
    "    train_len = int(len(xarray)*trainratio)\n",
    "    test_len = len(xarray) - train_len\n",
    "    x_train, y_train, x_test, y_test = xarray[:train_len], yarray[:train_len], xarray[train_len:], yarray[train_len:]\n",
    "    return x_train, y_train, x_test, y_test"
   ]
  },
  {
   "cell_type": "code",
   "execution_count": 3,
   "metadata": {},
   "outputs": [],
   "source": [
    "gen5 = unpack_data(\"/Users/karangarg/Documents/Year 3 Modules/EC331/Code/rae_repo/gen5_sims/data\")"
   ]
  },
  {
   "cell_type": "code",
   "execution_count": 28,
   "metadata": {},
   "outputs": [
    {
     "name": "stdout",
     "output_type": "stream",
     "text": [
      "(31162, 20, 2)\n",
      "(31162, 1)\n"
     ]
    }
   ],
   "source": [
    "X6, y6 = format_data(gen5, 20)\n",
    "print(X6.shape)\n",
    "print(y6.shape)"
   ]
  },
  {
   "cell_type": "code",
   "execution_count": 29,
   "metadata": {},
   "outputs": [],
   "source": [
    "X6_train, y6_train, X6_test, y6_test = split_data(X6, y6, 0.8)"
   ]
  },
  {
   "cell_type": "code",
   "execution_count": 30,
   "metadata": {},
   "outputs": [
    {
     "name": "stderr",
     "output_type": "stream",
     "text": [
      "/Users/karangarg/opt/anaconda3/lib/python3.7/site-packages/ipykernel_launcher.py:28: RuntimeWarning: invalid value encountered in log\n",
      "/Users/karangarg/opt/anaconda3/lib/python3.7/site-packages/ipykernel_launcher.py:29: RuntimeWarning: invalid value encountered in log\n"
     ]
    },
    {
     "ename": "AxisError",
     "evalue": "axis 3 is out of bounds for array of dimension 3",
     "output_type": "error",
     "traceback": [
      "\u001b[0;31m---------------------------------------------------------------------------\u001b[0m",
      "\u001b[0;31mAxisError\u001b[0m                                 Traceback (most recent call last)",
      "\u001b[0;32m<ipython-input-30-790d2962d51b>\u001b[0m in \u001b[0;36m<module>\u001b[0;34m\u001b[0m\n\u001b[1;32m      1\u001b[0m \u001b[0mX6_train\u001b[0m\u001b[0;34m,\u001b[0m \u001b[0my6_train\u001b[0m\u001b[0;34m,\u001b[0m \u001b[0mX6scale\u001b[0m\u001b[0;34m,\u001b[0m \u001b[0my6scale\u001b[0m \u001b[0;34m=\u001b[0m \u001b[0mnormalise_data\u001b[0m\u001b[0;34m(\u001b[0m\u001b[0mX6_train\u001b[0m\u001b[0;34m,\u001b[0m \u001b[0my6_train\u001b[0m\u001b[0;34m)\u001b[0m\u001b[0;34m\u001b[0m\u001b[0;34m\u001b[0m\u001b[0m\n\u001b[1;32m      2\u001b[0m \u001b[0mX6_test\u001b[0m\u001b[0;34m,\u001b[0m \u001b[0my6_test\u001b[0m\u001b[0;34m,\u001b[0m \u001b[0m_\u001b[0m\u001b[0;34m,\u001b[0m \u001b[0m_\u001b[0m \u001b[0;34m=\u001b[0m \u001b[0mnormalise_data\u001b[0m\u001b[0;34m(\u001b[0m\u001b[0mX6_test\u001b[0m\u001b[0;34m,\u001b[0m \u001b[0my6_test\u001b[0m\u001b[0;34m)\u001b[0m\u001b[0;34m\u001b[0m\u001b[0;34m\u001b[0m\u001b[0m\n\u001b[0;32m----> 3\u001b[0;31m \u001b[0mX6_train\u001b[0m \u001b[0;34m=\u001b[0m \u001b[0mX6_train\u001b[0m\u001b[0;34m[\u001b[0m\u001b[0;34m~\u001b[0m\u001b[0mnp\u001b[0m\u001b[0;34m.\u001b[0m\u001b[0misnan\u001b[0m\u001b[0;34m(\u001b[0m\u001b[0mX6_train\u001b[0m\u001b[0;34m)\u001b[0m\u001b[0;34m.\u001b[0m\u001b[0many\u001b[0m\u001b[0;34m(\u001b[0m\u001b[0maxis\u001b[0m\u001b[0;34m=\u001b[0m\u001b[0;36m3\u001b[0m\u001b[0;34m)\u001b[0m\u001b[0;34m]\u001b[0m\u001b[0;34m\u001b[0m\u001b[0;34m\u001b[0m\u001b[0m\n\u001b[0m\u001b[1;32m      4\u001b[0m \u001b[0my6_train\u001b[0m \u001b[0;34m=\u001b[0m \u001b[0my6_train\u001b[0m\u001b[0;34m[\u001b[0m\u001b[0;34m~\u001b[0m\u001b[0mnp\u001b[0m\u001b[0;34m.\u001b[0m\u001b[0misnan\u001b[0m\u001b[0;34m(\u001b[0m\u001b[0my6_train\u001b[0m\u001b[0;34m)\u001b[0m\u001b[0;34m.\u001b[0m\u001b[0many\u001b[0m\u001b[0;34m(\u001b[0m\u001b[0maxis\u001b[0m\u001b[0;34m=\u001b[0m\u001b[0;36m1\u001b[0m\u001b[0;34m)\u001b[0m\u001b[0;34m]\u001b[0m\u001b[0;34m\u001b[0m\u001b[0;34m\u001b[0m\u001b[0m\n\u001b[1;32m      5\u001b[0m \u001b[0mX6_test\u001b[0m \u001b[0;34m=\u001b[0m \u001b[0mX6_test\u001b[0m\u001b[0;34m[\u001b[0m\u001b[0;34m~\u001b[0m\u001b[0mnp\u001b[0m\u001b[0;34m.\u001b[0m\u001b[0misnan\u001b[0m\u001b[0;34m(\u001b[0m\u001b[0mX6_test\u001b[0m\u001b[0;34m)\u001b[0m\u001b[0;34m.\u001b[0m\u001b[0many\u001b[0m\u001b[0;34m(\u001b[0m\u001b[0maxis\u001b[0m\u001b[0;34m=\u001b[0m\u001b[0;36m3\u001b[0m\u001b[0;34m)\u001b[0m\u001b[0;34m]\u001b[0m\u001b[0;34m\u001b[0m\u001b[0;34m\u001b[0m\u001b[0m\n",
      "\u001b[0;32m~/opt/anaconda3/lib/python3.7/site-packages/numpy/core/_methods.py\u001b[0m in \u001b[0;36m_any\u001b[0;34m(a, axis, dtype, out, keepdims)\u001b[0m\n\u001b[1;32m     43\u001b[0m \u001b[0;34m\u001b[0m\u001b[0m\n\u001b[1;32m     44\u001b[0m \u001b[0;32mdef\u001b[0m \u001b[0m_any\u001b[0m\u001b[0;34m(\u001b[0m\u001b[0ma\u001b[0m\u001b[0;34m,\u001b[0m \u001b[0maxis\u001b[0m\u001b[0;34m=\u001b[0m\u001b[0;32mNone\u001b[0m\u001b[0;34m,\u001b[0m \u001b[0mdtype\u001b[0m\u001b[0;34m=\u001b[0m\u001b[0;32mNone\u001b[0m\u001b[0;34m,\u001b[0m \u001b[0mout\u001b[0m\u001b[0;34m=\u001b[0m\u001b[0;32mNone\u001b[0m\u001b[0;34m,\u001b[0m \u001b[0mkeepdims\u001b[0m\u001b[0;34m=\u001b[0m\u001b[0;32mFalse\u001b[0m\u001b[0;34m)\u001b[0m\u001b[0;34m:\u001b[0m\u001b[0;34m\u001b[0m\u001b[0;34m\u001b[0m\u001b[0m\n\u001b[0;32m---> 45\u001b[0;31m     \u001b[0;32mreturn\u001b[0m \u001b[0mumr_any\u001b[0m\u001b[0;34m(\u001b[0m\u001b[0ma\u001b[0m\u001b[0;34m,\u001b[0m \u001b[0maxis\u001b[0m\u001b[0;34m,\u001b[0m \u001b[0mdtype\u001b[0m\u001b[0;34m,\u001b[0m \u001b[0mout\u001b[0m\u001b[0;34m,\u001b[0m \u001b[0mkeepdims\u001b[0m\u001b[0;34m)\u001b[0m\u001b[0;34m\u001b[0m\u001b[0;34m\u001b[0m\u001b[0m\n\u001b[0m\u001b[1;32m     46\u001b[0m \u001b[0;34m\u001b[0m\u001b[0m\n\u001b[1;32m     47\u001b[0m \u001b[0;32mdef\u001b[0m \u001b[0m_all\u001b[0m\u001b[0;34m(\u001b[0m\u001b[0ma\u001b[0m\u001b[0;34m,\u001b[0m \u001b[0maxis\u001b[0m\u001b[0;34m=\u001b[0m\u001b[0;32mNone\u001b[0m\u001b[0;34m,\u001b[0m \u001b[0mdtype\u001b[0m\u001b[0;34m=\u001b[0m\u001b[0;32mNone\u001b[0m\u001b[0;34m,\u001b[0m \u001b[0mout\u001b[0m\u001b[0;34m=\u001b[0m\u001b[0;32mNone\u001b[0m\u001b[0;34m,\u001b[0m \u001b[0mkeepdims\u001b[0m\u001b[0;34m=\u001b[0m\u001b[0;32mFalse\u001b[0m\u001b[0;34m)\u001b[0m\u001b[0;34m:\u001b[0m\u001b[0;34m\u001b[0m\u001b[0;34m\u001b[0m\u001b[0m\n",
      "\u001b[0;31mAxisError\u001b[0m: axis 3 is out of bounds for array of dimension 3"
     ]
    }
   ],
   "source": [
    "X6_train, y6_train, X6scale, y6scale = normalise_data(X6_train, y6_train)\n",
    "X6_test, y6_test, _, _ = normalise_data(X6_test, y6_test)\n",
    "X6_train = X6_train[~np.isnan(X6_train).any(axis=3)]\n",
    "y6_train = y6_train[~np.isnan(y6_train).any(axis=1)]\n",
    "X6_test = X6_test[~np.isnan(X6_test).any(axis=3)]\n",
    "y6_test = y6_test[~np.isnan(y6_test).any(axis=1)]"
   ]
  },
  {
   "cell_type": "code",
   "execution_count": null,
   "metadata": {},
   "outputs": [],
   "source": [
    "print(X6_train.shape)"
   ]
  },
  {
   "cell_type": "code",
   "execution_count": 19,
   "metadata": {},
   "outputs": [
    {
     "name": "stdout",
     "output_type": "stream",
     "text": [
      "[4.65090666 4.79639306]\n",
      "[0.1224202  0.01614435]\n",
      "[4.65225912]\n",
      "[0.13224917]\n",
      "[[-0.13071821 -1.50497593]\n",
      " [-0.15050728 -1.49710959]\n",
      " [-0.15425104 -1.47199002]\n",
      " ...\n",
      " [ 0.12996923 -0.97910665]\n",
      " [ 0.14350353 -0.9717485 ]\n",
      " [ 0.1189907  -0.96439723]]\n",
      "[[-0.21835055]\n",
      " [-0.22489062]\n",
      " [-0.24546504]\n",
      " ...\n",
      " [ 0.13434885]\n",
      " [ 0.11076452]\n",
      " [ 0.12884721]]\n"
     ]
    }
   ],
   "source": [
    "print(X6scale.mean_)\n",
    "print(X6scale.var_)\n",
    "print(y6scale.mean_)\n",
    "print(y6scale.var_)\n",
    "print(X6_train)\n",
    "print(y6_train)"
   ]
  },
  {
   "cell_type": "code",
   "execution_count": 9,
   "metadata": {},
   "outputs": [],
   "source": [
    "lstm6=keras.Sequential() #Set up the architecture of the model\n",
    "\n",
    "lstm6.add(layers.LSTM(units=16, input_shape=(X6_train.shape[1], X6_train.shape[2])))\n",
    "lstm6.add(layers.Dropout(0.2))\n",
    "\n",
    "lstm6.add(layers.Dense(units=1))"
   ]
  },
  {
   "cell_type": "code",
   "execution_count": 10,
   "metadata": {},
   "outputs": [
    {
     "name": "stdout",
     "output_type": "stream",
     "text": [
      "Model: \"sequential\"\n",
      "_________________________________________________________________\n",
      "Layer (type)                 Output Shape              Param #   \n",
      "=================================================================\n",
      "lstm (LSTM)                  (None, 16)                1216      \n",
      "_________________________________________________________________\n",
      "dropout (Dropout)            (None, 16)                0         \n",
      "_________________________________________________________________\n",
      "dense (Dense)                (None, 1)                 17        \n",
      "=================================================================\n",
      "Total params: 1,233\n",
      "Trainable params: 1,233\n",
      "Non-trainable params: 0\n",
      "_________________________________________________________________\n",
      "None\n"
     ]
    }
   ],
   "source": [
    "print(lstm6.summary())"
   ]
  },
  {
   "cell_type": "code",
   "execution_count": 11,
   "metadata": {},
   "outputs": [
    {
     "name": "stdout",
     "output_type": "stream",
     "text": [
      "Train on 19943 samples, validate on 4986 samples\n",
      "Epoch 1/10\n",
      "19943/19943 [==============================] - 39s 2ms/sample - loss: nan - val_loss: nan\n",
      "Epoch 2/10\n",
      "19943/19943 [==============================] - 27s 1ms/sample - loss: nan - val_loss: nan\n",
      "Epoch 3/10\n",
      "19943/19943 [==============================] - 28s 1ms/sample - loss: nan - val_loss: nan\n",
      "Epoch 4/10\n",
      "19943/19943 [==============================] - 30s 1ms/sample - loss: nan - val_loss: nan\n",
      "Epoch 5/10\n",
      "19943/19943 [==============================] - 23s 1ms/sample - loss: nan - val_loss: nan\n",
      "Epoch 6/10\n",
      "19943/19943 [==============================] - 23s 1ms/sample - loss: nan - val_loss: nan\n",
      "Epoch 7/10\n",
      "19943/19943 [==============================] - 25s 1ms/sample - loss: nan - val_loss: nan\n",
      "Epoch 8/10\n",
      "19943/19943 [==============================] - 24s 1ms/sample - loss: nan - val_loss: nan\n",
      "Epoch 9/10\n",
      "19943/19943 [==============================] - 25s 1ms/sample - loss: nan - val_loss: nan\n",
      "Epoch 10/10\n",
      "19943/19943 [==============================] - 24s 1ms/sample - loss: nan - val_loss: nan\n"
     ]
    }
   ],
   "source": [
    "lstm6.compile(optimizer='nadam', loss='mean_squared_error') #Compile and train the model\n",
    "\n",
    "history6 = lstm6.fit(X6_train, y6_train, epochs = 10, batch_size = 32, validation_split=0.2, shuffle=False)"
   ]
  },
  {
   "cell_type": "code",
   "execution_count": 12,
   "metadata": {},
   "outputs": [
    {
     "name": "stdout",
     "output_type": "stream",
     "text": [
      "WARNING:tensorflow:From /Users/karangarg/opt/anaconda3/lib/python3.7/site-packages/tensorflow_core/python/ops/resource_variable_ops.py:1781: calling BaseResourceVariable.__init__ (from tensorflow.python.ops.resource_variable_ops) with constraint is deprecated and will be removed in a future version.\n",
      "Instructions for updating:\n",
      "If using Keras pass *_constraint arguments to layers.\n",
      "INFO:tensorflow:Assets written to: /Users/karangarg/Documents/Year 3 Modules/EC331/Code/rae_repo/lstms/lstm6/assets\n"
     ]
    }
   ],
   "source": [
    "lstm6.save(\"/Users/karangarg/Documents/Year 3 Modules/EC331/Code/rae_repo/lstms/lstm6\")"
   ]
  },
  {
   "cell_type": "code",
   "execution_count": 13,
   "metadata": {},
   "outputs": [
    {
     "data": {
      "text/plain": [
       "<matplotlib.legend.Legend at 0x7fd7f1be9710>"
      ]
     },
     "execution_count": 13,
     "metadata": {},
     "output_type": "execute_result"
    },
    {
     "data": {
      "image/png": "[encoded data removed]",
      "text/plain": [
       "<Figure size 1080x432 with 1 Axes>"
      ]
     },
     "metadata": {
      "needs_background": "light"
     },
     "output_type": "display_data"
    }
   ],
   "source": [
    "plt.figure(figsize=(15,6))\n",
    "plt.plot(history6.history[\"loss\"], label=\"train\")\n",
    "plt.plot(history6.history[\"val_loss\"], label=\"validation\")\n",
    "plt.legend()"
   ]
  },
  {
   "cell_type": "code",
   "execution_count": 14,
   "metadata": {},
   "outputs": [],
   "source": [
    "y6_pred = lstm6.predict(X6_test)\n",
    "y6_train_inv = y6scale.inverse_transform(y6_train.reshape(1, -1))\n",
    "y6_test_inv = y6scale.inverse_transform(y6_test.reshape(1, -1))\n",
    "y6_pred_inv  = y6scale.inverse_transform(y6_pred)"
   ]
  },
  {
   "cell_type": "code",
   "execution_count": 15,
   "metadata": {},
   "outputs": [
    {
     "data": {
      "text/plain": [
       "<matplotlib.legend.Legend at 0x7fd842249710>"
      ]
     },
     "execution_count": 15,
     "metadata": {},
     "output_type": "execute_result"
    },
    {
     "data": {
      "image/png": "[encoded data removed]",
      "text/plain": [
       "<Figure size 1080x432 with 1 Axes>"
      ]
     },
     "metadata": {
      "needs_background": "light"
     },
     "output_type": "display_data"
    }
   ],
   "source": [
    "plt.figure(figsize=(15,6))\n",
    "plt.plot(y6_test_inv.flatten(), label=\"Test data\")\n",
    "plt.plot(y6_pred_inv.flatten(), label=\"Model prediction\")\n",
    "plt.legend()"
   ]
  },
  {
   "cell_type": "code",
   "execution_count": null,
   "metadata": {},
   "outputs": [],
   "source": []
  }
 ],
 "metadata": {
  "kernelspec": {
   "display_name": "Python 3",
   "language": "python",
   "name": "python3"
  },
  "language_info": {
   "codemirror_mode": {
    "name": "ipython",
    "version": 3
   },
   "file_extension": ".py",
   "mimetype": "text/x-python",
   "name": "python",
   "nbconvert_exporter": "python",
   "pygments_lexer": "ipython3",
   "version": "3.7.4"
  }
 },
 "nbformat": 4,
 "nbformat_minor": 2
}
