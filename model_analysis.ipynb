{
 "cells": [
  {
   "cell_type": "code",
   "execution_count": 3,
   "metadata": {},
   "outputs": [],
   "source": [
    "from tensorflow import keras  # tensorflow v1.14.0 was used\n",
    "import numpy as np            # numpy v1.17.1 was used\n",
    "\n",
    "np.random.seed(2019)\n",
    "\n",
    "def make_model():\n",
    "    inp = keras.layers.Input(shape=(10, 3))\n",
    "    x = keras.layers.LSTM(10, activation='relu', return_sequences=True)(inp)\n",
    "    x = keras.layers.LSTM(5, activation='relu', return_sequences=True)(x)\n",
    "    x = keras.layers.LSTM(1, activation='sigmoid', return_sequences=True)(x)\n",
    "    out = keras.layers.Flatten()(x)\n",
    "    return keras.models.Model(inp, out)\n",
    "\n",
    "def data_gen():\n",
    "    while True:\n",
    "        x = np.random.rand(5, 10, 3)  # batch x time x features\n",
    "        yield x, x[:, :, 0] * x[:, :, 1] < 0.25\n",
    "\n",
    "def var_importance(model):\n",
    "    g = data_gen()\n",
    "    x = np.concatenate([next(g)[0] for _ in range(50)]) # Get a sample of data\n",
    "    orig_out = model.predict(x)\n",
    "    for i in range(3):  # iterate over the three features\n",
    "        new_x = x.copy()\n",
    "        perturbation = np.random.normal(0.0, 0.2, size=new_x.shape[:2])\n",
    "        new_x[:, :, i] = new_x[:, :, i] + perturbation\n",
    "        perturbed_out = model.predict(new_x)\n",
    "        effect = ((orig_out - perturbed_out) ** 2).mean() ** 0.5\n",
    "        print(f'Variable {i+1}, perturbation effect: {effect:.4f}')\n",
    "\n",
    "def main():\n",
    "    model = make_model()\n",
    "    model.compile('adam', 'binary_crossentropy')\n",
    "    print(model.summary())\n",
    "    model.fit_generator(data_gen(), steps_per_epoch=100, epochs=1)\n",
    "    var_importance(model)"
   ]
  },
  {
   "cell_type": "code",
   "execution_count": 4,
   "metadata": {},
   "outputs": [
    {
     "name": "stdout",
     "output_type": "stream",
     "text": [
      "Model: \"model_1\"\n",
      "_________________________________________________________________\n",
      "Layer (type)                 Output Shape              Param #   \n",
      "=================================================================\n",
      "input_2 (InputLayer)         [(None, 10, 3)]           0         \n",
      "_________________________________________________________________\n",
      "lstm_3 (LSTM)                (None, 10, 10)            560       \n",
      "_________________________________________________________________\n",
      "lstm_4 (LSTM)                (None, 10, 5)             320       \n",
      "_________________________________________________________________\n",
      "lstm_5 (LSTM)                (None, 10, 1)             28        \n",
      "_________________________________________________________________\n",
      "flatten_1 (Flatten)          (None, 10)                0         \n",
      "=================================================================\n",
      "Total params: 908\n",
      "Trainable params: 908\n",
      "Non-trainable params: 0\n",
      "_________________________________________________________________\n",
      "None\n",
      "100/100 [==============================] - 255s 3s/step - loss: 0.8002\n",
      "Variable 1, perturbation effect: 0.0119\n",
      "Variable 2, perturbation effect: 0.0042\n",
      "Variable 3, perturbation effect: 0.0088\n"
     ]
    }
   ],
   "source": [
    "if __name__ == \"__main__\":\n",
    "    main()"
   ]
  },
  {
   "cell_type": "code",
   "execution_count": 6,
   "metadata": {},
   "outputs": [
    {
     "name": "stdout",
     "output_type": "stream",
     "text": [
      "<generator object data_gen at 0x7f84533a7250>\n"
     ]
    }
   ],
   "source": [
    "print(data_gen()"
   ]
  },
  {
   "cell_type": "code",
   "execution_count": null,
   "metadata": {},
   "outputs": [],
   "source": []
  }
 ],
 "metadata": {
  "kernelspec": {
   "display_name": "Python 3",
   "language": "python",
   "name": "python3"
  },
  "language_info": {
   "codemirror_mode": {
    "name": "ipython",
    "version": 3
   },
   "file_extension": ".py",
   "mimetype": "text/x-python",
   "name": "python",
   "nbconvert_exporter": "python",
   "pygments_lexer": "ipython3",
   "version": "3.7.4"
  }
 },
 "nbformat": 4,
 "nbformat_minor": 2
}
