{
 "cells": [
  {
   "cell_type": "code",
   "execution_count": 1,
   "metadata": {},
   "outputs": [],
   "source": [
    "import numpy as np #Import relevant packages\n",
    "import pandas as pd\n",
    "import math\n",
    "import tensorflow as tf\n",
    "from tensorflow import keras\n",
    "from tensorflow.keras import layers\n",
    "from sklearn.preprocessing import StandardScaler\n",
    "from sklearn.metrics import mean_squared_error\n",
    "import glob\n",
    "import csv\n",
    "import matplotlib.pyplot as plt"
   ]
  },
  {
   "cell_type": "code",
   "execution_count": 2,
   "metadata": {},
   "outputs": [],
   "source": [
    "def unpack_data(filepath): #Returns a dictionary where each item is a df containing one run. One dict per generation.\n",
    "    all_files = glob.glob(filepath + \"/*.csv\")\n",
    "    name_list = []\n",
    "    datadict = {}\n",
    "    for f in all_files:\n",
    "        name_list.append(f[77:-4])\n",
    "    for i,n in enumerate(name_list):\n",
    "        datadict[n] = pd.read_csv(all_files[i], header=0)\n",
    "    for k, v in datadict.items():\n",
    "        v.drop(columns=[\"Unnamed: 0\", \"volume\", \"spread\", \"10_MA\", \"50_MA\"], inplace=True)\n",
    "    return datadict\n",
    "\n",
    "def format_data(datadict, window): #Turn dictionaries of data into features and samples lists\n",
    "    x_data = []\n",
    "    y_data = []\n",
    "    for k, v in datadict.items():\n",
    "        for i in range(len(v)):\n",
    "            if i >= window:\n",
    "                y_data.append(v.iloc[i][\"trading_price\"])\n",
    "                xi = v.iloc[i-window:i].to_numpy()\n",
    "                x_data.append(xi)\n",
    "    x_data = np.array(x_data)\n",
    "    y_data = np.array(y_data)\n",
    "    y_data = np.reshape(y_data, (y_data.shape[0], 1))\n",
    "    return x_data, y_data\n",
    "\n",
    "def normalise_data(xarray, yarray): #Take the natural log and then normalise prices\n",
    "    yarray_log = np.log(yarray)\n",
    "    xarray_log = np.log(xarray)\n",
    "    xsc = StandardScaler()\n",
    "    instances, timesteps, features = xarray_log.shape\n",
    "    xarray_log = np.reshape(xarray_log, (-1, features))\n",
    "    xarray_norm = xsc.fit_transform(xarray_log)\n",
    "    xarray_norm = np.reshape(xarray_norm, (instances, timesteps, features))\n",
    "    ysc = StandardScaler().fit(yarray_log)\n",
    "    yarray_norm = ysc.transform(yarray_log)\n",
    "    return xarray_norm, yarray_norm, xsc, ysc\n",
    "\n",
    "def split_data(xarray, yarray, trainratio): #Split the data into training and test sets\n",
    "    train_len = int(len(xarray)*trainratio)\n",
    "    test_len = len(xarray) - train_len\n",
    "    x_train, y_train, x_test, y_test = xarray[:train_len], yarray[:train_len], xarray[train_len:], yarray[train_len:]\n",
    "    return x_train, y_train, x_test, y_test"
   ]
  },
  {
   "cell_type": "code",
   "execution_count": null,
   "metadata": {},
   "outputs": [],
   "source": [
    "gen2 = unpack_data(\"/Users/karangarg/Documents/Year 3 Modules/EC331/Code/rae_repo/gen2_sims/data\")"
   ]
  },
  {
   "cell_type": "code",
   "execution_count": null,
   "metadata": {},
   "outputs": [],
   "source": [
    "X3, y3 = format_data(gen2, 20)"
   ]
  },
  {
   "cell_type": "code",
   "execution_count": null,
   "metadata": {},
   "outputs": [],
   "source": [
    "X3_train, y3_train, X3_test, y3_test = split_data(X3, y3, 0.8)"
   ]
  },
  {
   "cell_type": "code",
   "execution_count": null,
   "metadata": {},
   "outputs": [],
   "source": [
    "X3_train, y3_train, X3scale, y3scale = normalise_data(X3_train, y3_train)\n",
    "X3_test, y3_test, _, _ = normalise_data(X3_test, y3_test)"
   ]
  },
  {
   "cell_type": "code",
   "execution_count": null,
   "metadata": {},
   "outputs": [],
   "source": [
    "print(X3scale.mean_)\n",
    "print(X3scale.var_)\n",
    "print(y3scale.mean_)\n",
    "print(y3scale.var_)\n",
    "#print(X3_train)\n",
    "#print(y3_train)"
   ]
  },
  {
   "cell_type": "code",
   "execution_count": null,
   "metadata": {},
   "outputs": [],
   "source": [
    "lstm3=keras.Sequential() #Set up the architecture of the model\n",
    "\n",
    "lstm3.add(layers.LSTM(units=16, return_sequences=True, input_shape=(X3_train.shape[1], X3_train.shape[2])))\n",
    "lstm3.add(layers.Dropout(0.2))\n",
    "\n",
    "lstm3.add(layers.LSTM(units=16, return_sequences=True))\n",
    "lstm3.add(layers.Dropout(0.2))\n",
    "\n",
    "lstm3.add(layers.Dense(units=1))"
   ]
  },
  {
   "cell_type": "code",
   "execution_count": null,
   "metadata": {},
   "outputs": [],
   "source": [
    "print(lstm3.summary())"
   ]
  },
  {
   "cell_type": "code",
   "execution_count": null,
   "metadata": {},
   "outputs": [],
   "source": [
    "lstm3.compile(optimizer='nadam', loss='mean_squared_error') #Compile and train the model\n",
    "\n",
    "history3 = lstm3.fit(X3_train, y3_train, epochs = 10, batch_size = 32, validation_split=0.2, shuffle=False)"
   ]
  },
  {
   "cell_type": "code",
   "execution_count": null,
   "metadata": {},
   "outputs": [],
   "source": [
    "lstm3.save(\"/Users/karangarg/Documents/Year 3 Modules/EC331/Code/rae_repo/lstms/lstm3\")"
   ]
  },
  {
   "cell_type": "code",
   "execution_count": null,
   "metadata": {},
   "outputs": [],
   "source": [
    "plt.figure(figsize=(15,6))\n",
    "plt.plot(history3.history[\"loss\"], label=\"train\")\n",
    "plt.plot(history3.history[\"val_loss\"], label=\"validation\")\n",
    "plt.legend"
   ]
  },
  {
   "cell_type": "code",
   "execution_count": null,
   "metadata": {},
   "outputs": [],
   "source": [
    "y3_pred = lstm3.predict(X3_test)\n",
    "y3_train_inv = y3scale.inverse_transform(y3_train.reshape(1, -1))\n",
    "y3_test_inv = y3scale.inverse_transform(y3_test.reshape(1, -1))\n",
    "y3_pred_inv  = y3scale.inverse_transform(y3_pred)"
   ]
  },
  {
   "cell_type": "code",
   "execution_count": null,
   "metadata": {},
   "outputs": [],
   "source": [
    "plt.figure(figsize=(15,6))\n",
    "plt.plot(y3_test_inv.flatten(), label=\"Test data\")\n",
    "plt.plot(y3_pred_inv.flatten(), label=\"Model prediction\")\n",
    "plt.legend()"
   ]
  }
 ],
 "metadata": {
  "kernelspec": {
   "display_name": "Python 3",
   "language": "python",
   "name": "python3"
  },
  "language_info": {
   "codemirror_mode": {
    "name": "ipython",
    "version": 3
   },
   "file_extension": ".py",
   "mimetype": "text/x-python",
   "name": "python",
   "nbconvert_exporter": "python",
   "pygments_lexer": "ipython3",
   "version": "3.7.4"
  }
 },
 "nbformat": 4,
 "nbformat_minor": 2
}
