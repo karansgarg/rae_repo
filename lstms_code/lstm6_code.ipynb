{
 "cells": [
  {
   "cell_type": "code",
   "execution_count": 1,
   "metadata": {},
   "outputs": [],
   "source": [
    "import numpy as np #Import relevant packages\n",
    "import pandas as pd\n",
    "import math\n",
    "import tensorflow as tf\n",
    "from tensorflow import keras\n",
    "from tensorflow.keras import layers\n",
    "from sklearn.preprocessing import StandardScaler\n",
    "from sklearn.metrics import mean_squared_error\n",
    "import glob\n",
    "import csv\n",
    "import matplotlib.pyplot as plt"
   ]
  },
  {
   "cell_type": "code",
   "execution_count": 2,
   "metadata": {},
   "outputs": [],
   "source": [
    "def unpack_data(filepath): #Returns a dictionary where each item is a df containing one run. One dict per generation.\n",
    "    all_files = glob.glob(filepath + \"/*.csv\")\n",
    "    name_list = []\n",
    "    datadict = {}\n",
    "    for f in all_files:\n",
    "        name_list.append(f[77:-4])\n",
    "    for i,n in enumerate(name_list):\n",
    "        datadict[n] = pd.read_csv(all_files[i], header=0)\n",
    "    for k, v in datadict.items():\n",
    "        v.drop(columns=[\"Unnamed: 0\", \"volume\", \"spread\", \"10_MA\", \"50_MA\"], inplace=True)\n",
    "    return datadict\n",
    "\n",
    "def format_data(datadict, window): #Turn dictionaries of data into features and samples lists\n",
    "    x_data = []\n",
    "    y_data = []\n",
    "    for k, v in datadict.items():\n",
    "        for i in range(len(v)):\n",
    "            if i >= window:\n",
    "                y_data.append(v.iloc[i][\"trading_price\"])\n",
    "                xi = v.iloc[i-window:i].to_numpy()\n",
    "                x_data.append(xi)\n",
    "    x_data = np.array(x_data)\n",
    "    y_data = np.array(y_data)\n",
    "    y_data = np.reshape(y_data, (y_data.shape[0], 1))\n",
    "    return x_data, y_data\n",
    "\n",
    "def normalise_data(xarray, yarray): #Take the natural log and then normalise prices\n",
    "    yarray_log = np.log(yarray)\n",
    "    xarray_log = np.log(xarray)\n",
    "    xsc = StandardScaler()\n",
    "    instances, timesteps, features = xarray_log.shape\n",
    "    xarray_log = np.reshape(xarray_log, (-1, features))\n",
    "    xarray_norm = xsc.fit_transform(xarray_log)\n",
    "    xarray_norm = np.reshape(xarray_norm, (instances, timesteps, features))\n",
    "    ysc = StandardScaler().fit(yarray_log)\n",
    "    yarray_norm = ysc.transform(yarray_log)\n",
    "    return xarray_norm, yarray_norm, xsc, ysc\n",
    "\n",
    "def split_data(xarray, yarray, trainratio): #Split the data into training and test sets\n",
    "    train_len = int(len(xarray)*trainratio)\n",
    "    test_len = len(xarray) - train_len\n",
    "    x_train, y_train, x_test, y_test = xarray[:train_len], yarray[:train_len], xarray[train_len:], yarray[train_len:]\n",
    "    return x_train, y_train, x_test, y_test"
   ]
  },
  {
   "cell_type": "code",
   "execution_count": 3,
   "metadata": {},
   "outputs": [],
   "source": [
    "gen5 = unpack_data(\"/Users/karangarg/Documents/Year 3 Modules/EC331/Code/rae_repo/gen5_sims/data\")"
   ]
  },
  {
   "cell_type": "code",
   "execution_count": 4,
   "metadata": {},
   "outputs": [
    {
     "name": "stdout",
     "output_type": "stream",
     "text": [
      "(30027, 20, 2)\n",
      "(30027, 1)\n"
     ]
    }
   ],
   "source": [
    "X6, y6 = format_data(gen5, 20)\n",
    "print(X6.shape)\n",
    "print(y6.shape)"
   ]
  },
  {
   "cell_type": "code",
   "execution_count": 5,
   "metadata": {},
   "outputs": [],
   "source": [
    "X6_train, y6_train, X6_test, y6_test = split_data(X6, y6, 0.8)"
   ]
  },
  {
   "cell_type": "code",
   "execution_count": 6,
   "metadata": {},
   "outputs": [],
   "source": [
    "X6_train, y6_train, X6scale, y6scale = normalise_data(X6_train, y6_train)\n",
    "X6_test, y6_test, _, _ = normalise_data(X6_test, y6_test)\n",
    "#X6_train = X6_train[~np.isnan(X6_train).any(axis=3)]\n",
    "#y6_train = y6_train[~np.isnan(y6_train).any(axis=1)]\n",
    "#X6_test = X6_test[~np.isnan(X6_test).any(axis=3)]\n",
    "#y6_test = y6_test[~np.isnan(y6_test).any(axis=1)]"
   ]
  },
  {
   "cell_type": "code",
   "execution_count": 7,
   "metadata": {},
   "outputs": [
    {
     "name": "stdout",
     "output_type": "stream",
     "text": [
      "(24021, 20, 2)\n"
     ]
    }
   ],
   "source": [
    "print(X6_train.shape)"
   ]
  },
  {
   "cell_type": "code",
   "execution_count": 8,
   "metadata": {},
   "outputs": [
    {
     "name": "stdout",
     "output_type": "stream",
     "text": [
      "[4.66928006 4.78850285]\n",
      "[0.09714129 0.01499251]\n",
      "[4.67114152]\n",
      "[0.10751644]\n",
      "[[[-0.20569466 -1.49727862]\n",
      "  [-0.19192781 -1.4891157 ]\n",
      "  [-0.2211324  -1.48096092]\n",
      "  ...\n",
      "  [-0.13964305 -1.63232794]\n",
      "  [-0.17027684 -1.62402899]\n",
      "  [-0.14152946 -1.61573845]]\n",
      "\n",
      " [[-0.19192781 -1.4891157 ]\n",
      "  [-0.2211324  -1.48096092]\n",
      "  [-0.20601552 -1.47281428]\n",
      "  ...\n",
      "  [-0.17027684 -1.62402899]\n",
      "  [-0.14152946 -1.61573845]\n",
      "  [-0.11678011 -1.61242459]]\n",
      "\n",
      " [[-0.2211324  -1.48096092]\n",
      "  [-0.20601552 -1.47281428]\n",
      "  [-0.18650136 -1.46467576]\n",
      "  ...\n",
      "  [-0.14152946 -1.61573845]\n",
      "  [-0.11678011 -1.61242459]\n",
      "  [-0.15350255 -1.60414583]]\n",
      "\n",
      " ...\n",
      "\n",
      " [[ 0.14039463 -0.525187  ]\n",
      "  [ 0.16649972 -0.51721531]\n",
      "  [ 0.14097065 -0.50925138]\n",
      "  ...\n",
      "  [ 0.22061057 -0.49840398]\n",
      "  [ 0.19352756 -0.49045837]\n",
      "  [ 0.19267753 -0.48252048]]\n",
      "\n",
      " [[ 0.16649972 -0.51721531]\n",
      "  [ 0.14097065 -0.50925138]\n",
      "  [ 0.16907004 -0.50129521]\n",
      "  ...\n",
      "  [ 0.19352756 -0.49045837]\n",
      "  [ 0.19267753 -0.48252048]\n",
      "  [ 0.1773382  -0.45803386]]\n",
      "\n",
      " [[ 0.14097065 -0.50925138]\n",
      "  [ 0.16907004 -0.50129521]\n",
      "  [ 0.14643776 -0.49334679]\n",
      "  ...\n",
      "  [ 0.19267753 -0.48252048]\n",
      "  [ 0.1773382  -0.45803386]\n",
      "  [ 0.20455762 -0.45012741]]]\n",
      "[[-0.11667962]\n",
      " [-0.1515853 ]\n",
      " [-0.12827052]\n",
      " ...\n",
      " [ 0.1628878 ]\n",
      " [ 0.1887606 ]\n",
      " [ 0.1645113 ]]\n"
     ]
    }
   ],
   "source": [
    "print(X6scale.mean_)\n",
    "print(X6scale.var_)\n",
    "print(y6scale.mean_)\n",
    "print(y6scale.var_)\n",
    "print(X6_train)\n",
    "print(y6_train)"
   ]
  },
  {
   "cell_type": "code",
   "execution_count": 9,
   "metadata": {},
   "outputs": [],
   "source": [
    "lstm6=keras.Sequential() #Set up the architecture of the model\n",
    "\n",
    "lstm6.add(layers.LSTM(units=16, input_shape=(X6_train.shape[1], X6_train.shape[2])))\n",
    "lstm6.add(layers.Dropout(0.2))\n",
    "\n",
    "lstm6.add(layers.Dense(units=1))"
   ]
  },
  {
   "cell_type": "code",
   "execution_count": 10,
   "metadata": {},
   "outputs": [
    {
     "name": "stdout",
     "output_type": "stream",
     "text": [
      "Model: \"sequential\"\n",
      "_________________________________________________________________\n",
      "Layer (type)                 Output Shape              Param #   \n",
      "=================================================================\n",
      "lstm (LSTM)                  (None, 16)                1216      \n",
      "_________________________________________________________________\n",
      "dropout (Dropout)            (None, 16)                0         \n",
      "_________________________________________________________________\n",
      "dense (Dense)                (None, 1)                 17        \n",
      "=================================================================\n",
      "Total params: 1,233\n",
      "Trainable params: 1,233\n",
      "Non-trainable params: 0\n",
      "_________________________________________________________________\n",
      "None\n"
     ]
    }
   ],
   "source": [
    "print(lstm6.summary())"
   ]
  },
  {
   "cell_type": "code",
   "execution_count": 11,
   "metadata": {},
   "outputs": [
    {
     "name": "stdout",
     "output_type": "stream",
     "text": [
      "Train on 19216 samples, validate on 4805 samples\n",
      "Epoch 1/10\n",
      "19216/19216 [==============================] - 34s 2ms/sample - loss: 0.2024 - val_loss: 0.1558\n",
      "Epoch 2/10\n",
      "19216/19216 [==============================] - 27s 1ms/sample - loss: 0.0312 - val_loss: 0.0646\n",
      "Epoch 3/10\n",
      "19216/19216 [==============================] - 24s 1ms/sample - loss: 0.0244 - val_loss: 0.0392\n",
      "Epoch 4/10\n",
      "19216/19216 [==============================] - 21s 1ms/sample - loss: 0.0214 - val_loss: 0.0335\n",
      "Epoch 5/10\n",
      "19216/19216 [==============================] - 23s 1ms/sample - loss: 0.0193 - val_loss: 0.0217\n",
      "Epoch 6/10\n",
      "19216/19216 [==============================] - 24s 1ms/sample - loss: 0.0185 - val_loss: 0.0161\n",
      "Epoch 7/10\n",
      "19216/19216 [==============================] - 24s 1ms/sample - loss: 0.0166 - val_loss: 0.0198\n",
      "Epoch 8/10\n",
      "19216/19216 [==============================] - 26s 1ms/sample - loss: 0.0167 - val_loss: 0.0144\n",
      "Epoch 9/10\n",
      "19216/19216 [==============================] - 25s 1ms/sample - loss: 0.0175 - val_loss: 0.0139\n",
      "Epoch 10/10\n",
      "19216/19216 [==============================] - 26s 1ms/sample - loss: 0.0154 - val_loss: 0.0128\n"
     ]
    }
   ],
   "source": [
    "lstm6.compile(optimizer='nadam', loss='mean_squared_error') #Compile and train the model\n",
    "\n",
    "history6 = lstm6.fit(X6_train, y6_train, epochs = 10, batch_size = 32, validation_split=0.2, shuffle=False)"
   ]
  },
  {
   "cell_type": "code",
   "execution_count": 12,
   "metadata": {},
   "outputs": [
    {
     "name": "stdout",
     "output_type": "stream",
     "text": [
      "WARNING:tensorflow:From /Users/karangarg/opt/anaconda3/lib/python3.7/site-packages/tensorflow_core/python/ops/resource_variable_ops.py:1781: calling BaseResourceVariable.__init__ (from tensorflow.python.ops.resource_variable_ops) with constraint is deprecated and will be removed in a future version.\n",
      "Instructions for updating:\n",
      "If using Keras pass *_constraint arguments to layers.\n",
      "INFO:tensorflow:Assets written to: /Users/karangarg/Documents/Year 3 Modules/EC331/Code/rae_repo/lstms/lstm6/assets\n"
     ]
    }
   ],
   "source": [
    "lstm6.save(\"/Users/karangarg/Documents/Year 3 Modules/EC331/Code/rae_repo/lstms/lstm6\")"
   ]
  },
  {
   "cell_type": "code",
   "execution_count": 13,
   "metadata": {},
   "outputs": [
    {
     "data": {
      "text/plain": [
       "<matplotlib.legend.Legend at 0x7f98e46087d0>"
      ]
     },
     "execution_count": 13,
     "metadata": {},
     "output_type": "execute_result"
    },
    {
     "data": {
      "image/png": "[encoded data removed]",
      "text/plain": [
       "<Figure size 1080x432 with 1 Axes>"
      ]
     },
     "metadata": {
      "needs_background": "light"
     },
     "output_type": "display_data"
    }
   ],
   "source": [
    "plt.figure(figsize=(15,6))\n",
    "plt.plot(history6.history[\"loss\"], label=\"train\")\n",
    "plt.plot(history6.history[\"val_loss\"], label=\"validation\")\n",
    "plt.legend()"
   ]
  },
  {
   "cell_type": "code",
   "execution_count": 14,
   "metadata": {},
   "outputs": [],
   "source": [
    "y6_pred = lstm6.predict(X6_test)\n",
    "y6_train_inv = y6scale.inverse_transform(y6_train.reshape(1, -1))\n",
    "y6_test_inv = y6scale.inverse_transform(y6_test.reshape(1, -1))\n",
    "y6_pred_inv  = y6scale.inverse_transform(y6_pred)"
   ]
  },
  {
   "cell_type": "code",
   "execution_count": 15,
   "metadata": {},
   "outputs": [
    {
     "data": {
      "text/plain": [
       "<matplotlib.legend.Legend at 0x7f98e68c8bd0>"
      ]
     },
     "execution_count": 15,
     "metadata": {},
     "output_type": "execute_result"
    },
    {
     "data": {
      "image/png": "[encoded data removed]",
      "text/plain": [
       "<Figure size 1080x432 with 1 Axes>"
      ]
     },
     "metadata": {
      "needs_background": "light"
     },
     "output_type": "display_data"
    }
   ],
   "source": [
    "plt.figure(figsize=(15,6))\n",
    "plt.plot(y6_test_inv.flatten(), label=\"Test data\")\n",
    "plt.plot(y6_pred_inv.flatten(), label=\"Model prediction\")\n",
    "plt.legend()"
   ]
  },
  {
   "cell_type": "code",
   "execution_count": null,
   "metadata": {},
   "outputs": [],
   "source": []
  }
 ],
 "metadata": {
  "kernelspec": {
   "display_name": "Python 3",
   "language": "python",
   "name": "python3"
  },
  "language_info": {
   "codemirror_mode": {
    "name": "ipython",
    "version": 3
   },
   "file_extension": ".py",
   "mimetype": "text/x-python",
   "name": "python",
   "nbconvert_exporter": "python",
   "pygments_lexer": "ipython3",
   "version": "3.7.4"
  }
 },
 "nbformat": 4,
 "nbformat_minor": 2
}
