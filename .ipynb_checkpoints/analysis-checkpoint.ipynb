{
 "cells": [
  {
   "cell_type": "markdown",
   "metadata": {},
   "source": [
    "## Analysis\n",
    "\n",
    "This notebook contains the code for the analysis of the final dataset. While rigorous econometric analysis is limited (due to the nature of the dataset), some basic tests for market efficiency can reveal a lot of insight as to how the machine learning traders affected the market.\n",
    "\n",
    "The tests we will conduct will look at a variety of factors, including "
   ]
  },
  {
   "cell_type": "code",
   "execution_count": 2,
   "metadata": {},
   "outputs": [],
   "source": [
    "import numpy as np\n",
    "import pandas as pd\n",
    "import math\n",
    "import matplotlib.pyplot as plt\n",
    "import csv\n",
    "import glob"
   ]
  },
  {
   "cell_type": "code",
   "execution_count": 3,
   "metadata": {},
   "outputs": [],
   "source": [
    "def unpack_data(filepath): #Returns a dictionary where each item is a df containing one run. One dict per generation.\n",
    "    all_files = glob.glob(filepath + \"/*.csv\")\n",
    "    name_list = []\n",
    "    datadict = {}\n",
    "    for f in all_files:\n",
    "        name_list.append(f[77:-4])\n",
    "    for i,n in enumerate(name_list):\n",
    "        datadict[n] = pd.read_csv(all_files[i], header=0)\n",
    "#    for k, v in datadict.items():\n",
    "#        v.drop(columns=[\"Unnamed: 0\", \"volume\", \"spread\", \"10_MA\", \"50_MA\"], inplace=True)\n",
    "    return datadict"
   ]
  },
  {
   "cell_type": "code",
   "execution_count": 4,
   "metadata": {},
   "outputs": [],
   "source": [
    "gen0 = unpack_data(\"/Users/karangarg/Documents/Year 3 Modules/EC331/Code/rae_repo/gen0_sims/data\") #Load gen0 data"
   ]
  },
  {
   "cell_type": "code",
   "execution_count": 11,
   "metadata": {},
   "outputs": [],
   "source": [
    "def compute_mean_squared_diff(datadict): #Returns average mean squared difference, i.e. the square of the average distance between the true price and trading price for any given period in any given simlation\n",
    "    msd_list = []\n",
    "    msd_dict = {}\n",
    "    for k, v in datadict.items():\n",
    "        diff_list = []\n",
    "        for i in range(len(v)):\n",
    "            squared_diff = (v.iloc[i][\"trading_price\"] - v.iloc[i][\"true_price\"])**2\n",
    "            diff_list.append(squared_diff)\n",
    "        msd = sum(diff_list)/len(diff_list)\n",
    "        msd_list.append(msd)\n",
    "        msd_dict[k] = msd\n",
    "    avg_msd = sum(msd_list)/len(msd_list)\n",
    "    return avg_msd, msd_dict"
   ]
  },
  {
   "cell_type": "code",
   "execution_count": 13,
   "metadata": {},
   "outputs": [],
   "source": [
    "#gen0_msd, gen0_msd_dict = compute_mean_squared_diff(gen0)"
   ]
  },
  {
   "cell_type": "code",
   "execution_count": null,
   "metadata": {},
   "outputs": [],
   "source": [
    "def reversion_rate(datadict): #For any given run of the market, how many times does price deviate and how long does it take to return to the true price\n",
    "    for k, v in datadict.items():\n",
    "        dev_count = 0\n",
    "        for i in range(1, len(v)+1):\n",
    "            if abs(v.iloc[i][\"trading_price\"] - v.iloc[i][\"true_price\"]) > 1 and abs(v.iloc[i-1][\"trading_price\"] - v.iloc[i-1][\"true_price\"]) <= 1:\n",
    "                dev_count +=1\n",
    "    "
   ]
  }
 ],
 "metadata": {
  "kernelspec": {
   "display_name": "Python 3",
   "language": "python",
   "name": "python3"
  },
  "language_info": {
   "codemirror_mode": {
    "name": "ipython",
    "version": 3
   },
   "file_extension": ".py",
   "mimetype": "text/x-python",
   "name": "python",
   "nbconvert_exporter": "python",
   "pygments_lexer": "ipython3",
   "version": "3.7.4"
  }
 },
 "nbformat": 4,
 "nbformat_minor": 2
}
