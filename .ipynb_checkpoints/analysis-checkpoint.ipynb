{
 "cells": [
  {
   "cell_type": "markdown",
   "metadata": {},
   "source": [
    "## Analysis\n",
    "\n",
    "This notebook contains the code for the analysis of the final dataset. While rigorous econometric analysis is limited (due to the nature of the dataset), some basic tests for market efficiency can reveal a lot of insight as to how the machine learning traders affected the market.\n",
    "\n",
    "The tests we will conduct will look at a variety of factors, including mean-reversion tendencies, run tests and whether our different types of traders outperformed some simple strategies such as filters and buy-and-hold strategies."
   ]
  },
  {
   "cell_type": "code",
   "execution_count": 21,
   "metadata": {},
   "outputs": [],
   "source": [
    "import numpy as np\n",
    "import pandas as pd\n",
    "import math\n",
    "import matplotlib.pyplot as plt\n",
    "import csv\n",
    "import glob"
   ]
  },
  {
   "cell_type": "code",
   "execution_count": 46,
   "metadata": {},
   "outputs": [],
   "source": [
    "def unpack_data(filepath): #Returns a dictionary where each item is a df containing one run, one dict per generation\n",
    "    all_files = glob.glob(filepath + \"/*.csv\")\n",
    "    name_list = []\n",
    "    datadict = {}\n",
    "    for f in all_files:\n",
    "        name_list.append(f[89:-4])\n",
    "    for i,n in enumerate(name_list):\n",
    "        datadict[n] = pd.read_csv(all_files[i], header=0)\n",
    "#    for k, v in datadict.items():\n",
    "#        v.drop(columns=[\"Unnamed: 0\", \"volume\", \"spread\", \"10_MA\", \"50_MA\"], inplace=True)\n",
    "    return datadict"
   ]
  },
  {
   "cell_type": "code",
   "execution_count": 47,
   "metadata": {},
   "outputs": [],
   "source": [
    "gen0 = unpack_data(\"/Users/karangarg/Documents/Year 3 Modules/EC331/Code/rae_repo/simulations/gen0_sims/data\") #Load gen0 data"
   ]
  },
  {
   "cell_type": "code",
   "execution_count": 48,
   "metadata": {},
   "outputs": [],
   "source": [
    "def compute_mean_squared_diff(datadict): #Returns average mean squared difference, i.e. the square of the average distance between the true price and trading price for any given period in any given simlation\n",
    "    msd_list = []\n",
    "    msd_dict = {}\n",
    "    for k, v in datadict.items():\n",
    "        diff_list = []\n",
    "        for i in range(len(v)):\n",
    "            squared_diff = (v.iloc[i][\"trading_price\"] - v.iloc[i][\"true_price\"])**2\n",
    "            diff_list.append(squared_diff)\n",
    "        msd = sum(diff_list)/len(diff_list)\n",
    "        msd_list.append(msd)\n",
    "        msd_dict[k] = msd\n",
    "    avg_msd = sum(msd_list)/len(msd_list)\n",
    "    return avg_msd, msd_dict"
   ]
  },
  {
   "cell_type": "code",
   "execution_count": 18,
   "metadata": {},
   "outputs": [],
   "source": [
    "#gen0_msd, gen0_msd_dict = compute_mean_squared_diff(gen0)"
   ]
  },
  {
   "cell_type": "code",
   "execution_count": 52,
   "metadata": {},
   "outputs": [],
   "source": [
    "def reversion_rate(datadict, dev=1): #For any given run of the market, how many times does price deviate and how long does it take to return to the true price\n",
    "    final_avg_return_list = []\n",
    "    final_avg_no_return_list = []\n",
    "    return_run_length_list = []\n",
    "    no_return_run_length_list = []\n",
    "    for k, v in datadict.items():\n",
    "        run_count = 0\n",
    "        dev_return_list = []\n",
    "        dev_no_return_list = []\n",
    "        for i in range(len(v)):\n",
    "            if abs(v.iloc[i][\"trading_price\"] - v.iloc[i][\"true_price\"]) > dev and abs(v.iloc[i-1][\"trading_price\"] - v.iloc[i-1][\"true_price\"]) <= dev:\n",
    "                for t in range(i, len(v)):\n",
    "                    if abs(v.iloc[t][\"trading_price\"] - v.iloc[t][\"true_price\"]) > dev and t == len(v)-1:\n",
    "                        dev_no_return_list.append(t-i)\n",
    "                        break\n",
    "                    elif abs(v.iloc[t][\"trading_price\"] - v.iloc[t][\"true_price\"]) <= dev:\n",
    "                        dev_return_list.append(t-i)\n",
    "                        break\n",
    "        print(f\"Returned runs for {k}: {dev_return_list}\")\n",
    "        print(f\"Unreturned runs for {k}: {dev_no_return_list}\")\n",
    "#        avg_return_time = sum(dev_return_list)/len(dev_return_list)\n",
    "#        avg_no_return_time = sum(dev_no_return_list)/len(dev_no_return_list)\n",
    "#        final_avg_return_list.append(avg_return_time)\n",
    "#        return_run_length_list.append(len(dev_return_list))\n",
    "#        final_avg_no_return_list.append(dev_no_return_list)\n",
    "#        no_return_run_length_list.append(len(dev_no_return_list))\n",
    "#    final_avg_return = sum(final_avg_return_list)/len(final_avg_return_list) #Length of avg deviation run (that returned)\n",
    "#    final_avg_no_return = sum(final_avg_no_return_list)/len(final_avg_no_return_list) #Length of avg deviation run (that didn't return)\n",
    "#    avg_no_returns = sum(return_run_length_list)/len(return_run_length_list)\n",
    "#    avg_no_no_returns = sum(no_return_run_length_list)/len(no_return_run_length_list) #Avg number of deviations per run that returned\n",
    "    return final_avg_return, final_avg_no_return, avg_no_returns, avg_no_no_returns #Avg number of deviations per run that didn't return"
   ]
  },
  {
   "cell_type": "code",
   "execution_count": 51,
   "metadata": {},
   "outputs": [
    {
     "name": "stdout",
     "output_type": "stream",
     "text": [
      "Returned runs for gen0sim35: []\n",
      "Unreturned runs for gen0sim35: [355]\n",
      "Returned runs for gen0sim21: [1, 2, 1, 1, 1, 1, 1, 1, 1, 1, 2, 1, 1, 1, 1, 1, 1, 1, 2]\n",
      "Unreturned runs for gen0sim21: [0]\n",
      "Returned runs for gen0sim20: [3, 3, 1, 3, 2, 4, 2, 1, 1, 7, 1, 1, 1, 1, 1, 1, 3, 1, 1, 1]\n",
      "Unreturned runs for gen0sim20: []\n",
      "Returned runs for gen0sim34: [2, 1, 1, 1, 1, 2, 2, 2, 2, 1, 1, 1, 2, 5, 1, 1, 1, 1, 1, 1, 1, 2, 2, 1, 2, 1, 1, 1, 1, 1, 1, 1, 1, 1, 1, 1, 1, 1, 1, 2, 1, 1, 1, 4, 1, 1, 2, 2, 1]\n",
      "Unreturned runs for gen0sim34: []\n",
      "Returned runs for gen0sim22: [1, 2, 2, 1, 7, 2, 1, 1, 14, 5, 1, 1, 1, 4, 1, 3, 5, 1, 1, 1, 1, 1, 1, 3, 1, 1, 2, 1, 1, 2, 1, 1, 1, 1, 1, 1, 1, 1, 1]\n",
      "Unreturned runs for gen0sim22: []\n",
      "Returned runs for gen0sim36: [8, 26, 2, 54, 5, 1, 4]\n",
      "Unreturned runs for gen0sim36: []\n",
      "Returned runs for gen0sim37: [1, 2, 1, 1, 2, 1, 1, 2, 2, 22, 7, 4, 1, 1, 2, 2, 1, 2, 2, 2, 3, 1, 1, 1, 137, 1, 164, 1, 9, 1, 1, 1, 1]\n",
      "Unreturned runs for gen0sim37: []\n",
      "Returned runs for gen0sim23: [1, 5, 1, 1, 1, 3, 3, 26, 6, 9, 1, 1, 1, 1, 1, 1, 1, 2, 3, 1, 6, 2, 1]\n",
      "Unreturned runs for gen0sim23: []\n",
      "Returned runs for gen0sim27: [1, 2, 1, 1, 1, 1, 1, 1, 1, 1, 1, 1, 1, 3, 1, 1, 1, 1, 1, 1, 1, 1, 1, 1, 1, 3, 1, 1, 2, 1, 1, 1, 1]\n",
      "Unreturned runs for gen0sim27: [0]\n",
      "Returned runs for gen0sim33: [1, 1, 2, 3, 1, 1, 1, 1, 2, 1, 1, 37, 17, 5, 2, 1, 1, 2, 40, 4, 1, 1, 2, 2, 1, 1, 1, 1, 3, 2, 1, 1, 1, 1, 1, 1]\n",
      "Unreturned runs for gen0sim33: []\n",
      "Returned runs for gen0sim32: [2, 2, 2, 1, 6, 2, 2, 4, 2, 1, 2, 2, 1, 4, 1, 1, 1, 1, 1, 1, 1, 2, 3, 1, 1, 6, 1, 1, 1, 1, 5, 1, 3, 1, 1, 1, 1, 1, 3, 1, 1, 1, 1, 1, 1, 1, 1, 1, 1, 1, 1, 1, 1, 1, 1, 1, 1, 1, 1, 1, 1, 1, 1, 1, 3, 1, 1, 6, 1, 1, 1, 3]\n",
      "Unreturned runs for gen0sim32: []\n",
      "Returned runs for gen0sim26: [2, 2, 2, 3, 2, 40, 20, 1, 1, 1, 1, 1, 1, 1, 2, 1, 1, 1, 1, 1, 1, 6]\n",
      "Unreturned runs for gen0sim26: []\n",
      "Returned runs for gen0sim30: [1, 1, 2, 11, 3, 1, 1, 2, 1, 6, 1, 2, 1, 1, 2, 2, 1, 1, 1, 1, 1, 1, 1]\n",
      "Unreturned runs for gen0sim30: []\n",
      "Returned runs for gen0sim24: [5]\n",
      "Unreturned runs for gen0sim24: [309]\n",
      "Returned runs for gen0sim18: [2, 2, 1, 1, 1, 1, 1, 1, 1, 1, 2, 5, 1, 1, 1, 1, 1, 20, 2, 1, 3, 1, 3, 1, 1, 1, 1, 1, 1, 2, 1, 8, 1, 1]\n",
      "Unreturned runs for gen0sim18: []\n",
      "Returned runs for gen0sim19: [1, 1, 1, 25, 1, 1, 30, 1, 5, 1, 1, 2, 3, 1, 2, 3, 1, 1, 1, 1, 1, 1]\n",
      "Unreturned runs for gen0sim19: []\n",
      "Returned runs for gen0sim25: [15, 1, 65, 5, 1, 1, 1, 1, 1, 5, 1, 1, 1, 2, 1, 1, 3, 1, 3]\n",
      "Unreturned runs for gen0sim25: []\n",
      "Returned runs for gen0sim31: [1, 1, 1, 1, 10, 1, 2, 2, 2, 2, 1, 3, 1, 1, 1, 1, 4, 1, 1, 2, 1, 2, 1, 1, 9, 1, 1, 1]\n",
      "Unreturned runs for gen0sim31: []\n",
      "Returned runs for gen0sim56: [1, 3, 12, 2, 9, 1, 1, 1, 6, 1, 1, 1, 1, 1, 1, 1, 1, 1, 1, 1, 1, 1, 1, 1, 3]\n",
      "Unreturned runs for gen0sim56: []\n",
      "Returned runs for gen0sim42: []\n",
      "Unreturned runs for gen0sim42: [346]\n",
      "Returned runs for gen0sim95: [1, 1, 3, 12, 1, 1, 1, 1, 1, 1, 1, 1, 2, 2, 1, 1, 2, 1, 1, 2, 2, 1, 1, 1, 2, 1, 1, 1, 1, 1, 146, 2, 1, 1, 1, 56, 1, 6, 2, 1, 1]\n",
      "Unreturned runs for gen0sim95: []\n",
      "Returned runs for gen0sim81: [2, 4, 4, 2, 3, 1, 1, 2, 1, 2, 3, 1, 8, 1, 1, 1, 1, 1, 2, 1, 1, 3, 1, 1, 1, 2, 2, 1, 3, 2, 3, 3, 1, 1, 2, 2, 1, 1, 1]\n",
      "Unreturned runs for gen0sim81: []\n",
      "Returned runs for gen0sim3: [1, 2, 2, 1, 2, 2, 1, 1, 1, 1, 1, 1, 1, 1, 1, 36, 1, 7, 1, 1, 1, 2, 1, 1, 1, 1, 1, 2, 2, 1, 1, 1, 2, 1, 1, 1, 1, 1, 1]\n",
      "Unreturned runs for gen0sim3: [0]\n",
      "Returned runs for gen0sim2: []\n",
      "Unreturned runs for gen0sim2: [183]\n",
      "Returned runs for gen0sim80: [3]\n",
      "Unreturned runs for gen0sim80: [374]\n",
      "Returned runs for gen0sim94: [1, 2, 1, 1, 1, 1, 1, 7, 1, 1, 1, 1, 1, 1, 1]\n",
      "Unreturned runs for gen0sim94: []\n",
      "Returned runs for gen0sim43: []\n",
      "Unreturned runs for gen0sim43: [82]\n",
      "Returned runs for gen0sim57: [2, 2, 2, 2, 2, 1, 2, 2, 12, 1, 4, 1, 1, 1, 11, 1, 2, 1, 1, 2, 3, 4, 1, 4, 1, 2, 1, 3, 2, 1, 1, 1, 3, 2, 1, 1, 7, 1, 1, 1, 2, 1, 1, 1, 3, 1, 1, 1, 1, 1, 1, 1, 1, 1, 2, 1, 1]\n",
      "Unreturned runs for gen0sim57: []\n",
      "Returned runs for gen0sim69: [3, 2, 2, 1, 3, 2, 2, 1, 1, 3, 1, 1, 1, 1, 1, 23, 1, 2, 1, 1, 1, 5, 3, 4, 1, 1, 1, 1]\n",
      "Unreturned runs for gen0sim69: []\n",
      "Returned runs for gen0sim41: []\n",
      "Unreturned runs for gen0sim41: []\n",
      "Returned runs for gen0sim55: [2, 1, 2, 1, 96, 9, 2, 9, 4, 1, 1, 1, 1, 1, 1, 1, 1, 2, 1, 1, 1, 1, 1, 1, 1, 1, 1, 1, 1, 1, 1, 1, 1, 1, 1, 2, 1, 1, 1, 1, 1, 1, 1]\n",
      "Unreturned runs for gen0sim55: [0]\n",
      "Returned runs for gen0sim82: [21, 1, 1, 1, 1, 15, 1, 22, 1, 1, 1, 41, 1, 2, 2, 2, 1, 1, 1, 2, 1, 3, 1, 13, 1, 1, 5, 1, 4, 1, 4, 1, 1, 1, 2, 2, 1, 1, 1, 1, 1, 1, 1, 1, 1, 22]\n",
      "Unreturned runs for gen0sim82: [0]\n",
      "Returned runs for gen0sim96: [2]\n",
      "Unreturned runs for gen0sim96: [402]\n",
      "Returned runs for gen0sim1: [127, 1, 8, 10, 7, 1, 1, 2, 1, 44, 1]\n",
      "Unreturned runs for gen0sim1: [8]\n",
      "Returned runs for gen0sim97: []\n",
      "Unreturned runs for gen0sim97: [201]\n",
      "Returned runs for gen0sim83: [1, 1, 2, 1, 2, 3, 2, 163, 1, 2, 2, 3, 1, 1, 2, 1, 1, 1, 1, 1, 1, 1, 1, 3, 1, 1, 1, 1]\n",
      "Unreturned runs for gen0sim83: []\n",
      "Returned runs for gen0sim54: []\n",
      "Unreturned runs for gen0sim54: [159]\n",
      "Returned runs for gen0sim40: [2, 10, 2, 4, 5, 1, 2, 1, 1, 1, 1, 1, 1, 2, 1, 1, 1, 2, 2, 2, 1, 1, 1, 1, 1, 2, 1, 1, 1, 1, 1, 1, 1]\n",
      "Unreturned runs for gen0sim40: []\n",
      "Returned runs for gen0sim68: [4, 5, 1, 1, 1, 1, 1, 1, 1, 1, 1, 2, 1, 1, 1, 1, 1, 1, 1, 2, 1, 1, 1, 1, 1, 3, 1, 1, 1, 2, 1, 1, 1, 3, 1, 1, 1, 4]\n",
      "Unreturned runs for gen0sim68: []\n",
      "Returned runs for gen0sim44: [8, 2, 2, 1, 1, 1, 1, 1, 5, 4, 1, 1, 2, 2, 1, 1, 1, 2, 1, 1, 1, 1, 1, 1]\n",
      "Unreturned runs for gen0sim44: []\n",
      "Returned runs for gen0sim50: [1, 1, 1, 1, 1, 1, 1, 1, 3, 1, 1, 1, 1, 1, 1, 1, 2, 1, 2, 1, 1, 1, 1, 1, 2, 5, 1, 2, 1, 1, 4, 2]\n",
      "Unreturned runs for gen0sim50: []\n",
      "Returned runs for gen0sim78: []\n",
      "Unreturned runs for gen0sim78: [142]\n",
      "Returned runs for gen0sim87: []\n",
      "Unreturned runs for gen0sim87: [323]\n",
      "Returned runs for gen0sim93: []\n",
      "Unreturned runs for gen0sim93: [336]\n",
      "Returned runs for gen0sim5: [1, 1, 2, 1, 1, 5, 1, 1, 1, 3, 9, 12, 1, 2, 1, 1, 2, 1, 1, 2, 2, 1, 1, 1, 2, 1, 10, 1, 1, 1, 13, 1, 1, 1, 2, 1, 2, 1, 1, 1]\n",
      "Unreturned runs for gen0sim5: []\n",
      "Returned runs for gen0sim4: [14, 3, 3, 3, 1, 2, 1, 1, 1, 6, 2, 2, 2, 2, 1, 1, 2, 2, 2, 2, 4, 2, 2, 5, 1, 21, 2, 2, 2, 2, 4, 5, 1, 1, 1, 1, 10, 1, 1, 6]\n",
      "Unreturned runs for gen0sim4: [1]\n",
      "Returned runs for gen0sim92: [1, 102, 1, 2, 1, 2, 1, 1, 1, 1, 1, 1, 1, 1, 1, 1, 1, 1, 1, 1, 1, 1, 1, 1, 1, 1, 1, 1, 1, 1, 1, 1, 1, 1, 2, 1, 2, 1, 1, 1, 1, 1, 1, 1, 2, 1, 1, 1, 1, 1, 1, 1, 1, 1, 1, 1, 1, 1, 1, 1, 2, 1, 1, 1, 1, 1, 1, 1, 1, 1, 3, 3, 1, 1, 1, 1, 1, 1, 1]\n",
      "Unreturned runs for gen0sim92: [1]\n",
      "Returned runs for gen0sim86: [1, 1, 1, 1, 1, 1, 1, 1, 1, 1, 1, 1, 2, 2, 2, 2, 1, 1, 1, 6, 3, 5, 54, 2, 9, 14, 2, 1, 2, 1, 1, 1, 1, 1, 1, 5, 1, 1, 1, 3]\n",
      "Unreturned runs for gen0sim86: [14]\n",
      "Returned runs for gen0sim79: [19, 17, 2, 2, 4, 1, 1, 1, 1, 2, 2, 2, 2, 1, 2, 2, 2, 1, 2, 1, 1, 1, 1, 2, 1, 4, 1, 1, 50, 1, 3, 2, 2, 2, 1, 2, 5, 4, 1, 7]\n",
      "Unreturned runs for gen0sim79: []\n",
      "Returned runs for gen0sim51: []\n",
      "Unreturned runs for gen0sim51: [208]\n",
      "Returned runs for gen0sim45: []\n",
      "Unreturned runs for gen0sim45: [76]\n",
      "Returned runs for gen0sim53: [1, 2, 2, 2, 11, 24, 2, 2, 2, 4, 3, 22, 1, 1, 1, 1, 4, 1, 1, 1, 1, 1, 1, 1, 1, 1, 4, 3, 3, 1]\n",
      "Unreturned runs for gen0sim53: []\n",
      "Returned runs for gen0sim47: []\n",
      "Unreturned runs for gen0sim47: [419]\n",
      "Returned runs for gen0sim90: []\n",
      "Unreturned runs for gen0sim90: [289]\n",
      "Returned runs for gen0sim84: []\n",
      "Unreturned runs for gen0sim84: [424]\n",
      "Returned runs for gen0sim6: [1, 1, 1, 1, 1, 1, 1, 1, 12, 1, 1, 1, 1, 1, 1, 1, 1, 1, 5, 1, 1, 1, 1, 1, 1, 1, 1, 3, 1, 1, 1, 1, 1, 1, 1, 1, 1, 1, 1, 1, 1]\n",
      "Unreturned runs for gen0sim6: []\n",
      "Returned runs for gen0sim7: [1, 1, 1, 1, 2, 1, 19, 2, 1, 1, 1, 3, 1, 1, 4, 6]\n",
      "Unreturned runs for gen0sim7: []\n",
      "Returned runs for gen0sim85: [22, 1, 1, 1, 1, 1, 1, 1, 20, 1, 1, 1, 1, 1, 1, 1, 1, 2, 1, 6, 1, 43, 1, 2, 1, 7, 2, 1, 4, 1, 1, 1, 3, 3, 2, 1, 3, 2, 2, 1, 1, 7, 1, 2, 1, 1, 1, 1, 1, 1, 1, 1, 1, 1, 1, 1]\n",
      "Unreturned runs for gen0sim85: []\n",
      "Returned runs for gen0sim91: [23, 22, 9, 2, 1, 5, 12, 2, 2, 1, 1, 4, 3, 1, 1, 1, 1, 1, 2, 1, 1, 1, 1, 1, 1, 2, 2, 1, 1, 1]\n",
      "Unreturned runs for gen0sim91: []\n",
      "Returned runs for gen0sim46: [2, 25, 2, 17]\n",
      "Unreturned runs for gen0sim46: [45]\n",
      "Returned runs for gen0sim52: [3, 4, 6, 1, 1, 1, 1, 1, 1, 1, 1, 1, 4, 7, 1, 1, 2, 1]\n",
      "Unreturned runs for gen0sim52: [50]\n"
     ]
    },
    {
     "name": "stdout",
     "output_type": "stream",
     "text": [
      "Returned runs for gen0sim77: [3, 1, 2, 1, 2, 20, 1, 1, 1, 3, 2, 1, 7, 6, 1, 2, 1, 1, 1, 1, 1, 1, 1, 1, 1, 1, 1, 1, 1, 1, 1, 1, 1, 1, 1, 1, 1, 2, 1, 1, 1, 2, 1]\n",
      "Unreturned runs for gen0sim77: [0]\n",
      "Returned runs for gen0sim63: [74, 2]\n",
      "Unreturned runs for gen0sim63: [227]\n",
      "Returned runs for gen0sim88: [2, 103, 7, 3, 3, 1, 3, 1, 1, 3, 1, 1, 1, 1, 3, 3, 1]\n",
      "Unreturned runs for gen0sim88: []\n",
      "Returned runs for gen0sim89: [6]\n",
      "Unreturned runs for gen0sim89: [161]\n",
      "Returned runs for gen0sim62: []\n",
      "Unreturned runs for gen0sim62: [374]\n",
      "Returned runs for gen0sim76: [6, 19, 72, 3, 1, 3, 3, 1, 2, 4, 1, 1, 2, 1, 6, 1, 1, 2, 2, 1, 1, 1, 2, 1, 1, 1, 3, 1, 1, 1, 1, 3, 1, 1, 1, 1]\n",
      "Unreturned runs for gen0sim76: []\n",
      "Returned runs for gen0sim48: [2, 2, 2, 5, 1, 2, 1, 2, 1, 1, 1, 1, 1, 1, 1, 1, 1, 1, 1, 1, 1, 5, 1, 2]\n",
      "Unreturned runs for gen0sim48: []\n",
      "Returned runs for gen0sim60: [1, 2, 2, 5, 88, 6, 1, 1, 1, 1, 1, 1, 1]\n",
      "Unreturned runs for gen0sim60: []\n",
      "Returned runs for gen0sim74: []\n",
      "Unreturned runs for gen0sim74: [172]\n",
      "Returned runs for gen0sim100: [16, 4, 2, 4, 1, 1, 1, 1, 2, 1, 1, 1, 1, 1, 1, 1, 2, 1, 1, 4, 4, 1, 1, 1, 1, 1, 3, 2, 1, 1, 1, 1, 1, 1, 1, 1, 1, 1, 1, 1, 1, 1, 1, 1, 2]\n",
      "Unreturned runs for gen0sim100: []\n",
      "Returned runs for gen0sim9: [1, 1, 1, 1, 1, 2, 1, 1, 1, 8, 1, 1, 1, 1]\n",
      "Unreturned runs for gen0sim9: []\n",
      "Returned runs for gen0sim8: []\n",
      "Unreturned runs for gen0sim8: [101]\n",
      "Returned runs for gen0sim75: []\n",
      "Unreturned runs for gen0sim75: [8]\n",
      "Returned runs for gen0sim61: [14, 101, 1, 1, 1, 1, 1, 1, 1, 1, 1, 1, 2, 2, 6, 1, 1, 2, 1, 7, 1, 1, 1]\n",
      "Unreturned runs for gen0sim61: [0]\n",
      "Returned runs for gen0sim49: []\n",
      "Unreturned runs for gen0sim49: [438]\n",
      "Returned runs for gen0sim65: [1, 19, 1, 2, 1, 5, 142, 5, 1, 1, 1, 1]\n",
      "Unreturned runs for gen0sim65: []\n",
      "Returned runs for gen0sim71: []\n",
      "Unreturned runs for gen0sim71: [46]\n",
      "Returned runs for gen0sim59: [1, 1, 2, 2, 1, 1, 2, 1, 1, 1, 1, 9, 2, 2]\n",
      "Unreturned runs for gen0sim59: [406]\n",
      "Returned runs for gen0sim58: [2, 2, 9, 2, 1, 1, 2, 1, 1, 1, 2, 3, 1, 1, 1, 1, 1, 2, 2, 36, 2, 1, 1, 3, 1, 1, 1, 1, 1, 3, 1, 1, 1, 1, 1, 2, 1, 1, 1, 1, 1, 1, 1, 1, 1, 1, 4, 1, 1, 2, 1, 1, 1, 1, 1, 1, 1, 1, 1, 1, 1, 1, 2, 2, 1, 1, 1, 1, 1, 1, 1, 1, 1, 1, 1, 1, 1, 5, 1]\n",
      "Unreturned runs for gen0sim58: []\n",
      "Returned runs for gen0sim70: [116, 1, 1, 1, 1, 1, 1, 1, 3, 1, 1, 1, 1, 1, 1, 2, 1, 1, 1, 1, 1, 1, 1, 1, 1, 1, 1, 1, 1, 1, 1, 1, 1, 1, 1, 1, 1, 1, 1, 1, 1, 1, 1, 1, 1, 1, 1, 1, 1, 1, 1, 1, 1, 1, 1, 1, 1, 1, 1, 1, 1, 1]\n",
      "Unreturned runs for gen0sim70: []\n",
      "Returned runs for gen0sim64: [1, 124, 4, 1, 1, 1, 1, 1, 1, 1, 1, 1, 1, 3, 1, 1, 1, 1, 1, 1, 1, 1, 1, 1, 1]\n",
      "Unreturned runs for gen0sim64: [0]\n",
      "Returned runs for gen0sim72: [1, 1, 2, 1, 2, 5, 1, 1, 1, 2, 1, 1, 1, 1, 1, 1, 1, 1, 1, 1, 1, 1, 1, 2, 1, 1, 1, 1, 1, 1, 1, 1, 1, 1, 1, 1]\n",
      "Unreturned runs for gen0sim72: []\n",
      "Returned runs for gen0sim66: []\n",
      "Unreturned runs for gen0sim66: [264]\n",
      "Returned runs for gen0sim99: [2, 2, 2, 5, 1, 1, 1, 2, 1, 1, 2, 5, 1, 1, 1, 1, 1, 2, 1, 1, 1, 1, 1, 1, 1, 1]\n",
      "Unreturned runs for gen0sim99: [0]\n",
      "Returned runs for gen0sim98: [6, 3, 1, 1, 1, 1, 1, 2, 1, 1, 1, 1, 3, 1]\n",
      "Unreturned runs for gen0sim98: [2]\n",
      "Returned runs for gen0sim67: []\n",
      "Unreturned runs for gen0sim67: [157]\n",
      "Returned runs for gen0sim73: [1, 1, 1, 16, 2, 1, 1, 17, 3, 1, 21, 1, 1, 2, 1, 1, 1, 1, 1, 1, 1, 67, 1, 1, 1, 1, 2, 1, 1]\n",
      "Unreturned runs for gen0sim73: []\n",
      "Returned runs for gen0sim28: [3, 1, 1, 1, 1, 1, 1, 1, 1, 1, 1, 1, 1, 1, 1, 1, 1, 1, 1, 1, 1, 1, 1, 1, 1, 1, 1, 1, 1, 1, 1, 1, 1, 1, 1, 6, 1, 1, 1, 1, 1, 1, 1, 1, 1, 1, 1, 2, 1, 1, 1, 1, 3, 1, 1, 2, 2, 1, 1, 1, 1, 1, 1, 1, 1, 1, 1, 1, 1, 1, 1, 1, 1, 1, 2, 1, 1, 1, 1, 1, 3, 1, 1, 1, 3, 1, 1, 1, 1, 1, 1, 1, 1, 1, 1, 1, 1, 1, 1, 1, 1, 1]\n",
      "Unreturned runs for gen0sim28: [0]\n",
      "Returned runs for gen0sim14: [1, 4, 1, 30, 2, 1, 1, 1, 4, 1, 1, 1, 1, 1, 1, 2, 2, 1, 3, 1, 1, 1, 1, 1, 1, 1, 1, 1, 1, 1, 1, 1, 1, 1, 1, 1]\n",
      "Unreturned runs for gen0sim14: []\n",
      "Returned runs for gen0sim15: [1, 2, 4, 12, 18, 2, 1, 1, 2, 3, 1, 1, 68]\n",
      "Unreturned runs for gen0sim15: [63]\n",
      "Returned runs for gen0sim29: []\n",
      "Unreturned runs for gen0sim29: [443]\n",
      "Returned runs for gen0sim17: [8, 2, 3, 5, 1, 7, 1, 1, 1, 2, 1, 1, 1, 1, 1, 3, 1, 2, 1, 1, 1, 1, 1, 1, 2, 1, 1, 6, 1, 1, 1, 1, 1, 1, 4]\n",
      "Unreturned runs for gen0sim17: []\n",
      "Returned runs for gen0sim16: [186, 5, 11, 1, 1, 1, 1, 1, 1, 2, 1, 1, 1, 1, 1]\n",
      "Unreturned runs for gen0sim16: [0]\n",
      "Returned runs for gen0sim12: [1, 1, 1, 1, 1, 1, 1, 1, 2, 1, 2, 1, 1, 11, 4, 1, 1, 1, 2, 1]\n",
      "Unreturned runs for gen0sim12: []\n",
      "Returned runs for gen0sim13: [6, 7, 3, 1, 1, 1, 1, 1, 2, 2, 2, 1, 1, 1, 1, 5, 1, 1, 1, 1, 1, 2, 1, 1, 1]\n",
      "Unreturned runs for gen0sim13: []\n",
      "Returned runs for gen0sim11: [2, 2, 2, 1, 2, 1, 2, 12, 3, 5, 1, 1, 2, 1, 1, 1, 1, 7, 1, 3, 1, 1, 2, 1, 1, 1, 2, 1, 1, 1, 1, 1, 1, 1, 1, 1, 1, 1, 1, 1, 4, 9, 1, 4, 1, 1, 1, 1, 70, 3, 1, 1, 2, 1, 1, 1, 1, 1, 1, 1, 11, 1, 1, 4, 1, 2, 1, 1]\n",
      "Unreturned runs for gen0sim11: [0]\n",
      "Returned runs for gen0sim39: [79, 1, 308, 1, 1, 1, 1, 1, 1]\n",
      "Unreturned runs for gen0sim39: [16]\n",
      "Returned runs for gen0sim38: [99, 1, 1, 1, 1, 1, 3, 1, 2, 2, 1, 33, 2, 1, 1, 1, 1, 1, 1, 1, 1, 1, 1, 1, 2, 1, 4, 1]\n",
      "Unreturned runs for gen0sim38: [0]\n",
      "Returned runs for gen0sim10: [2, 3, 5, 6, 1, 1, 1, 1, 1, 1, 2, 2, 2, 1, 7, 13, 3, 2, 1, 1, 1, 1, 1, 1, 2, 3, 1, 1, 1, 1, 1, 1, 1, 1, 1, 1, 1, 1, 1, 1, 1, 1, 1, 1, 1, 1, 1]\n",
      "Unreturned runs for gen0sim10: []\n"
     ]
    },
    {
     "ename": "NameError",
     "evalue": "name 'final_avg_return' is not defined",
     "output_type": "error",
     "traceback": [
      "\u001b[0;31m---------------------------------------------------------------------------\u001b[0m",
      "\u001b[0;31mNameError\u001b[0m                                 Traceback (most recent call last)",
      "\u001b[0;32m<ipython-input-51-481db20d2799>\u001b[0m in \u001b[0;36m<module>\u001b[0;34m\u001b[0m\n\u001b[0;32m----> 1\u001b[0;31m \u001b[0mreversion_rate\u001b[0m\u001b[0;34m(\u001b[0m\u001b[0mgen0\u001b[0m\u001b[0;34m)\u001b[0m\u001b[0;34m\u001b[0m\u001b[0;34m\u001b[0m\u001b[0m\n\u001b[0m",
      "\u001b[0;32m<ipython-input-50-ed99481529d0>\u001b[0m in \u001b[0;36mreversion_rate\u001b[0;34m(datadict)\u001b[0m\n\u001b[1;32m     29\u001b[0m \u001b[0;31m#    avg_no_returns = sum(return_run_length_list)/len(return_run_length_list)\u001b[0m\u001b[0;34m\u001b[0m\u001b[0;34m\u001b[0m\u001b[0;34m\u001b[0m\u001b[0m\n\u001b[1;32m     30\u001b[0m \u001b[0;31m#    avg_no_no_returns = sum(no_return_run_length_list)/len(no_return_run_length_list) #Avg number of deviations per run that returned\u001b[0m\u001b[0;34m\u001b[0m\u001b[0;34m\u001b[0m\u001b[0;34m\u001b[0m\u001b[0m\n\u001b[0;32m---> 31\u001b[0;31m     \u001b[0;32mreturn\u001b[0m \u001b[0mfinal_avg_return\u001b[0m\u001b[0;34m,\u001b[0m \u001b[0mfinal_avg_no_return\u001b[0m\u001b[0;34m,\u001b[0m \u001b[0mavg_no_returns\u001b[0m\u001b[0;34m,\u001b[0m \u001b[0mavg_no_no_returns\u001b[0m \u001b[0;31m#Avg number of deviations per run that didn't return\u001b[0m\u001b[0;34m\u001b[0m\u001b[0;34m\u001b[0m\u001b[0m\n\u001b[0m",
      "\u001b[0;31mNameError\u001b[0m: name 'final_avg_return' is not defined"
     ]
    }
   ],
   "source": [
    "reversion_rate(gen0)"
   ]
  },
  {
   "cell_type": "code",
   "execution_count": 30,
   "metadata": {},
   "outputs": [],
   "source": [
    "def inefficient_proportion(datadict): #Computes the proportion of time that the true and trading prices deviate (1%)\n",
    "    prop_list = []\n",
    "    for k, v in datadict.items():\n",
    "        prop_temp = 0\n",
    "        for i in range(len(v)):\n",
    "            if abs(v.iloc[i][\"trading_price\"] - v.iloc[i][\"true_price\"]) > 1:\n",
    "                prop_temp +=1\n",
    "        prop_list.append((prop_temp/len(v)))\n",
    "    prop = sum(prop_list)/len(prop_list)\n",
    "    return prop"
   ]
  },
  {
   "cell_type": "code",
   "execution_count": 31,
   "metadata": {},
   "outputs": [
    {
     "data": {
      "text/plain": [
       "0.5242133546690094"
      ]
     },
     "execution_count": 31,
     "metadata": {},
     "output_type": "execute_result"
    }
   ],
   "source": [
    "inefficient_proportion(gen0)"
   ]
  },
  {
   "cell_type": "code",
   "execution_count": 1,
   "metadata": {},
   "outputs": [
    {
     "name": "stdout",
     "output_type": "stream",
     "text": [
      "__main__\n"
     ]
    }
   ],
   "source": [
    "print(__name__)"
   ]
  },
  {
   "cell_type": "code",
   "execution_count": 35,
   "metadata": {},
   "outputs": [
    {
     "name": "stdout",
     "output_type": "stream",
     "text": [
      "2\n",
      "3\n"
     ]
    }
   ],
   "source": [
    "li = [1, 2, 3, 4]\n",
    "for i in range(2, len(li)):\n",
    "    print(i)"
   ]
  },
  {
   "cell_type": "code",
   "execution_count": null,
   "metadata": {},
   "outputs": [],
   "source": []
  }
 ],
 "metadata": {
  "kernelspec": {
   "display_name": "Python 3",
   "language": "python",
   "name": "python3"
  },
  "language_info": {
   "codemirror_mode": {
    "name": "ipython",
    "version": 3
   },
   "file_extension": ".py",
   "mimetype": "text/x-python",
   "name": "python",
   "nbconvert_exporter": "python",
   "pygments_lexer": "ipython3",
   "version": "3.7.4"
  }
 },
 "nbformat": 4,
 "nbformat_minor": 2
}
